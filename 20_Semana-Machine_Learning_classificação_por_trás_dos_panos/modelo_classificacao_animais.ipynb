{
 "cells": [
  {
   "cell_type": "markdown",
   "id": "c902f1de",
   "metadata": {},
   "source": [
    "# <font color='green' style='font-size: 30px backgound =;'> Modelo de Classificação</font>\n",
    "<hr style='border: 2px solid green;'>"
   ]
  },
  {
   "cell_type": "markdown",
   "id": "171c806d",
   "metadata": {},
   "source": [
    "##### Identificando duas espécies de animais : será um Porco ou Cachorro"
   ]
  },
  {
   "cell_type": "markdown",
   "id": "410e17ae",
   "metadata": {},
   "source": [
    "<div>\n",
    "1º define as variaveis se  1,1,0                           </br>\n",
    "> é gordinho?, tem perninha curta?, faz auau?              </br>\n",
    "2ª  Marca como proco ou cachorro (1 == porco |-1 == Cachorro)   </br>\n",
    "3ª Treinar os modelos                                      </br>\n",
    "4ª Execulta os testes                                      </br>\n",
    "</div>"
   ]
  },
  {
   "cell_type": "code",
   "execution_count": 1,
   "id": "4a97db60",
   "metadata": {},
   "outputs": [
    {
     "name": "stdout",
     "output_type": "stream",
     "text": [
      "[-1  1]\n"
     ]
    }
   ],
   "source": [
    "#Descricao dos animais que conheço\n",
    "#é gordinho?, tem perninha curta?, faz auau?\n",
    "\n",
    "porco1 = [1, 1, 0]    #é gordinho, tem perna curta, não faz auau\n",
    "porco2 = [1, 1, 0]    #é gordinho, tem perna curta, não faz auau\n",
    "porco3 = [1, 1, 0]    #é gordinho, tem perna curta, não faz auau\n",
    "cachorro1 = [1, 1, 1] #é gordinho, tem perna curta,faz auau\n",
    "cachorro2 = [0, 1, 1] #não é gordinho, tem perna curta,faz auau\n",
    "cachorro3 = [0, 1, 1] #não é gordinho, tem perna curta,faz auau\n",
    "\n",
    "dados = [porco1, porco2, porco3, cachorro1, cachorro2, cachorro3]\n",
    "\n",
    "marcacoes= [1,1,1,-1,-1, -1]\n",
    "\n",
    "from sklearn.naive_bayes import MultinomialNB\n",
    "\n",
    "modelo = MultinomialNB() #Criando modelo\n",
    "modelo.fit(dados, marcacoes) #Treinando modelo\n",
    "\n",
    "#será um cachorro ou um porco\n",
    "misterioso1 = [1, 1, 1]\n",
    "misterioso2 = [1, 0, 0]\n",
    "teste = [misterioso1, misterioso2]\n",
    "print(modelo.predict(teste))"
   ]
  },
  {
   "cell_type": "markdown",
   "id": "f69e0e7f",
   "metadata": {},
   "source": [
    "###### Implementando o IF na resposta "
   ]
  },
  {
   "cell_type": "markdown",
   "id": "5f74693e",
   "metadata": {},
   "source": [
    "Aperfeiçoando"
   ]
  },
  {
   "cell_type": "code",
   "execution_count": 8,
   "id": "d72a2414",
   "metadata": {},
   "outputs": [
    {
     "ename": "IndentationError",
     "evalue": "unexpected indent (Temp/ipykernel_10040/3095370812.py, line 27)",
     "output_type": "error",
     "traceback": [
      "\u001b[1;36m  File \u001b[1;32m\"C:\\Users\\aline\\AppData\\Local\\Temp/ipykernel_10040/3095370812.py\"\u001b[1;36m, line \u001b[1;32m27\u001b[0m\n\u001b[1;33m    print('Porco')\u001b[0m\n\u001b[1;37m    ^\u001b[0m\n\u001b[1;31mIndentationError\u001b[0m\u001b[1;31m:\u001b[0m unexpected indent\n"
     ]
    }
   ],
   "source": [
    "#Descricao dos animais que conheço\n",
    "#é gordinho?, tem perninha curta?, faz auau?\n",
    "\n",
    "porco1 = [1, 1, 0]    #é gordinho, tem perna curta, não faz auau\n",
    "porco2 = [1, 1, 0]    #é gordinho, tem perna curta, não faz auau\n",
    "porco3 = [1, 1, 0]    #é gordinho, tem perna curta, não faz auau\n",
    "cachorro1 = [1, 1, 1] #é gordinho, tem perna curta,faz auau\n",
    "cachorro2 = [0, 1, 1] #não é gordinho, tem perna curta,faz auau\n",
    "cachorro3 = [0, 1, 1] #não é gordinho, tem perna curta,faz auau\n",
    "\n",
    "dados = [porco1, porco2, porco3, cachorro1, cachorro2, cachorro3]\n",
    "\n",
    "marcacoes= [1,1,1,-1,-1, -1]\n",
    "\n",
    "from sklearn.naive_bayes import MultinomialNB\n",
    "\n",
    "modelo = MultinomialNB() #Criando modelo\n",
    "modelo.fit(dados, marcacoes) #Treinando modelo\n",
    "\n",
    "#será um cachorro ou um porco\n",
    "misterioso1 = [1, 1, 1]\n",
    "misterioso2 = [1, 0, 0]\n",
    "teste = [misterioso1, misterioso2]\n",
    "resultado=(modelo.predict(teste))\n",
    "\n",
    "resultado = [c for c in resultado if c == 1] \n",
    "    print('Porco')\n",
    "resultado = [c for c in resultado if c == 0]\n",
    "    print('Cachorro')\n",
    "\n",
    "    print(resultado)"
   ]
  },
  {
   "cell_type": "code",
   "execution_count": 4,
   "id": "1b87935b",
   "metadata": {},
   "outputs": [
    {
     "name": "stdout",
     "output_type": "stream",
     "text": [
      "[-1  1 -1]\n",
      "[0 0 0]\n"
     ]
    }
   ],
   "source": [
    "#Descricao dos animais que conheço\n",
    "#é gordinho?, tem perninha curta?, faz auau?\n",
    "\n",
    "porco1 = [1, 1, 0]    #é gordinho, tem perna curta, não faz auau\n",
    "porco2 = [1, 1, 0]    #é gordinho, tem perna curta, não faz auau\n",
    "porco3 = [1, 1, 0]    #é gordinho, tem perna curta, não faz auau\n",
    "cachorro1 = [1, 1, 1] #é gordinho, tem perna curta,faz auau\n",
    "cachorro2 = [0, 1, 1] #não é gordinho, tem perna curta,faz auau\n",
    "cachorro3 = [0, 1, 1] #não é gordinho, tem perna curta,faz auau\n",
    "\n",
    "dados = [porco1, porco2, porco3, cachorro1, cachorro2, cachorro3]\n",
    "\n",
    "marcacoes= [1,1,1,-1,-1, -1]\n",
    "\n",
    "from sklearn.naive_bayes import MultinomialNB\n",
    "\n",
    "modelo = MultinomialNB() #Criando modelo\n",
    "modelo.fit(dados, marcacoes) #Treinando modelo\n",
    "\n",
    "#será um cachorro ou um porco\n",
    "misterioso1 = [1, 1, 1]\n",
    "misterioso2 = [1, 0, 0]\n",
    "misterioso3 = [0, 0, 1]\n",
    "\n",
    "teste = [misterioso1, misterioso2, misterioso3]\n",
    "marcacoes_teste = [-1, 1, -1] #Resultado esperado\n",
    "\n",
    "resultado = modelo.predict(teste) #Resultado\n",
    "print(modelo.predict(teste))\n",
    "\n",
    "#Verificando a quantidade de erros e acertos\n",
    "print(resultado - marcacoes_teste)"
   ]
  },
  {
   "cell_type": "code",
   "execution_count": 23,
   "id": "7ddb8484",
   "metadata": {},
   "outputs": [
    {
     "name": "stdout",
     "output_type": "stream",
     "text": [
      "[-1  1 -1]\n",
      "[0 0 0]\n",
      "100.0\n"
     ]
    }
   ],
   "source": [
    "porco1 = [1, 1, 0]\n",
    "porco2 = [1, 1, 0]\n",
    "porco3 = [1, 1, 0]\n",
    "cachorro4 = [1, 1, 1]\n",
    "cachorro5 = [0, 1, 1]\n",
    "cachorro6 = [0, 1, 1]\n",
    "\n",
    "dados = [porco1, porco2, porco3, cachorro4, cachorro5, cachorro6]\n",
    "\n",
    "marcacoes = [1, 1, 1, -1, -1, -1]\n",
    "\n",
    "from sklearn.naive_bayes import MultinomialNB\n",
    "\n",
    "modelo = MultinomialNB()\n",
    "modelo.fit(dados, marcacoes)\n",
    "\n",
    "misterioso1 = [1, 1, 1]\n",
    "misterioso2 = [1, 0, 0]\n",
    "misterioso3 = [0, 0, 1]\n",
    "\n",
    "teste = [misterioso1, misterioso2, misterioso3]\n",
    "\n",
    "marcacoes_teste = [-1, 1, -1]\n",
    "\n",
    "resultado = modelo.predict(teste)\n",
    "\n",
    "diferencas = resultado - marcacoes_teste\n",
    "\n",
    "acertos = [d for d in diferencas if d == 0]\n",
    "\n",
    "total_de_acertos = len(acertos)\n",
    "total_de_elementos = len(teste)\n",
    "\n",
    "taxa_de_acerto = 100.0 * total_de_acertos / total_de_elementos\n",
    "\n",
    "print(resultado)\n",
    "print(diferencas)\n",
    "print(taxa_de_acerto)"
   ]
  },
  {
   "cell_type": "code",
   "execution_count": null,
   "id": "cb539b13",
   "metadata": {},
   "outputs": [],
   "source": []
  }
 ],
 "metadata": {
  "kernelspec": {
   "display_name": "Python 3 (ipykernel)",
   "language": "python",
   "name": "python3"
  },
  "language_info": {
   "codemirror_mode": {
    "name": "ipython",
    "version": 3
   },
   "file_extension": ".py",
   "mimetype": "text/x-python",
   "name": "python",
   "nbconvert_exporter": "python",
   "pygments_lexer": "ipython3",
   "version": "3.9.7"
  }
 },
 "nbformat": 4,
 "nbformat_minor": 5
}
