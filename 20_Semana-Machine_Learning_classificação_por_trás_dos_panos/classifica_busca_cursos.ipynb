{
 "cells": [
  {
   "cell_type": "code",
   "execution_count": 10,
   "id": "5d3f4a4b",
   "metadata": {},
   "outputs": [],
   "source": [
    "\n",
    "import csv\n",
    "\n",
    "#Criando a função\n",
    "def carregar_acessos():\n",
    "\n",
    "    X = []\n",
    "    Y = []\n",
    "\n",
    "    arquivo = open('acesso.csv', 'rb')\n",
    "    leitor = csv.reader(arquivo)\n",
    "\n",
    "    leitor.next() #Ignora a primeira linha\n",
    "\n",
    "    for home,planos_de_cursos,contato,comprou in leitor:\n",
    "\n",
    "        dado = ([int(home),int(planos_de_cursos)\n",
    "            ,int(contato)])\n",
    "        X.append(dado)\n",
    "        Y.append(int(comprou))\n",
    "\n",
    "    return X, Y"
   ]
  },
  {
   "cell_type": "code",
   "execution_count": null,
   "id": "7ed9face",
   "metadata": {},
   "outputs": [],
   "source": []
  }
 ],
 "metadata": {
  "kernelspec": {
   "display_name": "Python 3 (ipykernel)",
   "language": "python",
   "name": "python3"
  },
  "language_info": {
   "codemirror_mode": {
    "name": "ipython",
    "version": 3
   },
   "file_extension": ".py",
   "mimetype": "text/x-python",
   "name": "python",
   "nbconvert_exporter": "python",
   "pygments_lexer": "ipython3",
   "version": "3.9.7"
  }
 },
 "nbformat": 4,
 "nbformat_minor": 5
}
