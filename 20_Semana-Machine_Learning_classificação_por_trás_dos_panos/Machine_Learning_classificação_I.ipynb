{
 "cells": [
  {
   "cell_type": "markdown",
   "metadata": {},
   "source": [
    "# <font color='green' style='font-size: 30px backgound =;'> Machine Learning: classificação por trás dos panos - I </font>\n",
    "<hr style='border: 2px solid green;'>"
   ]
  },
  {
   "cell_type": "markdown",
   "metadata": {},
   "source": [
    "###### 01- Classificação e-mail, animais e muito mais"
   ]
  },
  {
   "cell_type": "markdown",
   "metadata": {},
   "source": [
    "<div>\n",
    "Vamos Classificar email em Spam ou não Spam </br>\n",
    "Spam =      </br> \n",
    "Não Span =\n",
    "</div>    "
   ]
  },
  {
   "cell_type": "code",
   "execution_count": 7,
   "metadata": {},
   "outputs": [],
   "source": [
    "# [é gordinho?, tem perninha curta?, faz auau?]\n",
    "\n",
    "porco1 = [1, 1, 0]    # é gordinho, tem perna curta, não faz auau\n",
    "porco2 = [1, 1, 0]    # é gordinho, tem perna curta, não faz auau\n",
    "porco3 = [1, 1, 0]    # é gordinho, tem perna curta, não faz auau\n",
    "cachorro1 = [1, 1, 1] # é gordinho, tem perna curta, faz auau\n",
    "cachorro2 = [0, 1, 1] # não é gordinho, tem perna curta, faz auau\n",
    "cachorro3 = [0, 1, 1] # não é gordinho, tem perna curta, faz auau"
   ]
  },
  {
   "cell_type": "code",
   "execution_count": 8,
   "metadata": {},
   "outputs": [],
   "source": [
    "dados = [porco1, porco2, porco3, cachorro1, cachorro2, cachorro3]\n",
    "\n",
    "marcacoes = [1, 1, 1, -1, -1, -1] # 1 porco/ -1 Cachorro"
   ]
  },
  {
   "cell_type": "code",
   "execution_count": 9,
   "metadata": {},
   "outputs": [],
   "source": [
    "misterioso=[1, 1, 1]"
   ]
  },
  {
   "cell_type": "code",
   "execution_count": 10,
   "metadata": {},
   "outputs": [],
   "source": [
    "from sklearn.naive_bayes import MultinomialNB"
   ]
  },
  {
   "cell_type": "code",
   "execution_count": 11,
   "metadata": {},
   "outputs": [
    {
     "data": {
      "text/plain": [
       "MultinomialNB()"
      ]
     },
     "execution_count": 11,
     "metadata": {},
     "output_type": "execute_result"
    }
   ],
   "source": [
    "modelo = MultinomialNB() #Criando modelo\n",
    "modelo.fit(dados, marcacoes) #Treinando modelo"
   ]
  },
  {
   "cell_type": "code",
   "execution_count": 13,
   "metadata": {},
   "outputs": [
    {
     "name": "stdout",
     "output_type": "stream",
     "text": [
      "[-1  1  1]\n"
     ]
    }
   ],
   "source": [
    "#será um cachorro ou um porco\n",
    "misterioso1 = [1, 1, 1]\n",
    "misterioso2 = [1, 0, 0]\n",
    "misterioso3 = [0, 1, 0]\n",
    "teste = [misterioso1, misterioso2, misterioso3]\n",
    "print(modelo.predict(teste))"
   ]
  },
  {
   "cell_type": "markdown",
   "metadata": {},
   "source": [
    "1.10 Sabendo a taxa de acerto "
   ]
  },
  {
   "cell_type": "code",
   "execution_count": 14,
   "metadata": {},
   "outputs": [
    {
     "name": "stdout",
     "output_type": "stream",
     "text": [
      "[-1  1 -1]\n",
      "[0 0 0]\n"
     ]
    }
   ],
   "source": [
    "#Descricao dos animais que conheço\n",
    "#é gordinho?, tem perninha curta?, faz auau?\n",
    "\n",
    "porco1 = [1, 1, 0]    #é gordinho, tem perna curta, não faz auau\n",
    "porco2 = [1, 1, 0]    #é gordinho, tem perna curta, não faz auau\n",
    "porco3 = [1, 1, 0]    #é gordinho, tem perna curta, não faz auau\n",
    "cachorro1 = [1, 1, 1] #é gordinho, tem perna curta,faz auau\n",
    "cachorro2 = [0, 1, 1] #não é gordinho, tem perna curta,faz auau\n",
    "cachorro3 = [0, 1, 1] #não é gordinho, tem perna curta,faz auau\n",
    "\n",
    "dados = [porco1, porco2, porco3, cachorro1, cachorro2, cachorro3]\n",
    "\n",
    "marcacoes= [1,1,1,-1,-1, -1]\n",
    "\n",
    "from sklearn.naive_bayes import MultinomialNB\n",
    "\n",
    "modelo = MultinomialNB() #Criando modelo\n",
    "modelo.fit(dados, marcacoes) #Treinando modelo\n",
    "\n",
    "#será um cachorro ou um porco\n",
    "misterioso1 = [1, 1, 1]\n",
    "misterioso2 = [1, 0, 0]\n",
    "misterioso3 = [0, 0, 1]\n",
    "\n",
    "teste = [misterioso1, misterioso2, misterioso3]\n",
    "marcacoes_teste = [-1, 1, -1] #Resultado esperado\n",
    "\n",
    "resultado = modelo.predict(teste) #Resultado\n",
    "print(modelo.predict(teste))\n",
    "\n",
    "#Verificando a quantidade de erros e acertos\n",
    "print(resultado - marcacoes_teste)"
   ]
  },
  {
   "cell_type": "code",
   "execution_count": 15,
   "metadata": {},
   "outputs": [
    {
     "name": "stdout",
     "output_type": "stream",
     "text": [
      "[-1  1 -1]\n",
      "[0 0 0]\n",
      "100.0\n"
     ]
    }
   ],
   "source": [
    "porco1 = [1, 1, 0]\n",
    "porco2 = [1, 1, 0]\n",
    "porco3 = [1, 1, 0]\n",
    "cachorro4 = [1, 1, 1]\n",
    "cachorro5 = [0, 1, 1]\n",
    "cachorro6 = [0, 1, 1]\n",
    "\n",
    "dados = [porco1, porco2, porco3, cachorro4, cachorro5, cachorro6]\n",
    "\n",
    "marcacoes = [1, 1, 1, -1, -1, -1]\n",
    "\n",
    "from sklearn.naive_bayes import MultinomialNB\n",
    "\n",
    "modelo = MultinomialNB()\n",
    "modelo.fit(dados, marcacoes)\n",
    "\n",
    "misterioso1 = [1, 1, 1]\n",
    "misterioso2 = [1, 0, 0]\n",
    "misterioso3 = [0, 0, 1]\n",
    "\n",
    "teste = [misterioso1, misterioso2, misterioso3]\n",
    "\n",
    "marcacoes_teste = [-1, 1, -1]\n",
    "\n",
    "resultado = modelo.predict(teste)\n",
    "\n",
    "diferencas = resultado - marcacoes_teste\n",
    "\n",
    "acertos = [d for d in diferencas if d == 0]\n",
    "\n",
    "total_de_acertos = len(acertos)\n",
    "total_de_elementos = len(teste)\n",
    "\n",
    "taxa_de_acerto = 100.0 * total_de_acertos / total_de_elementos\n",
    "\n",
    "print(resultado)\n",
    "print(diferencas)\n",
    "print(taxa_de_acerto)"
   ]
  },
  {
   "cell_type": "code",
   "execution_count": null,
   "metadata": {},
   "outputs": [],
   "source": [
    "x=os dados que vc tem y = os dados que quer prever "
   ]
  },
  {
   "cell_type": "code",
   "execution_count": null,
   "metadata": {},
   "outputs": [],
   "source": []
  },
  {
   "cell_type": "code",
   "execution_count": null,
   "metadata": {},
   "outputs": [],
   "source": []
  },
  {
   "cell_type": "code",
   "execution_count": null,
   "metadata": {},
   "outputs": [],
   "source": []
  },
  {
   "cell_type": "code",
   "execution_count": null,
   "metadata": {},
   "outputs": [],
   "source": []
  }
 ],
 "metadata": {
  "kernelspec": {
   "display_name": "Python 3 (ipykernel)",
   "language": "python",
   "name": "python3"
  },
  "language_info": {
   "codemirror_mode": {
    "name": "ipython",
    "version": 3
   },
   "file_extension": ".py",
   "mimetype": "text/x-python",
   "name": "python",
   "nbconvert_exporter": "python",
   "pygments_lexer": "ipython3",
   "version": "3.9.7"
  }
 },
 "nbformat": 4,
 "nbformat_minor": 2
}
