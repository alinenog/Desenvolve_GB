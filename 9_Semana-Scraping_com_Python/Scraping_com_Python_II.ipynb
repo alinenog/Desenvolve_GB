{
 "cells": [
  {
   "cell_type": "markdown",
   "id": "3e2de8b8",
   "metadata": {},
   "source": [
    "# <font color='green' style='font-size: 30px backgound =;'> Scraping com Python: coleta de dados na web - II </font>\n",
    "<hr style='border: 2px solid green;'>"
   ]
  },
  {
   "cell_type": "markdown",
   "id": "36395cc3",
   "metadata": {},
   "source": [
    "##### 05- Capturando Dados do anúncio"
   ]
  },
  {
   "cell_type": "code",
   "execution_count": null,
   "id": "2201cbc1",
   "metadata": {},
   "outputs": [],
   "source": [
    "import pandas as pd\n",
    "from urllib.request import urlopen # para fazermos a requisição no servidor e obtermos uma resposta\n",
    "from bs4 import BeautifulSoup  #transformará essa resposta em um objeto navegável para acessarmos as informações de forma mais simples"
   ]
  },
  {
   "cell_type": "code",
   "execution_count": null,
   "id": "a38f59e9",
   "metadata": {},
   "outputs": [],
   "source": [
    "url = 'https://alura-site-scraping.herokuapp.com/index.php'\n",
    "\n",
    "response = urlopen(url)\n",
    "html = response.read().decode('utf-8')\n",
    "soup =  BeautifulSoup(html,'html.parser')\n",
    "soup"
   ]
  },
  {
   "cell_type": "code",
   "execution_count": null,
   "id": "c2551e1e",
   "metadata": {},
   "outputs": [],
   "source": [
    "#Criando variaveis para armazenar informações\n",
    "\n",
    "cards = [] \n",
    "card = {}"
   ]
  },
  {
   "cell_type": "markdown",
   "id": "38eccd59",
   "metadata": {},
   "source": [
    "###### Obtendo os dados do primeiro card"
   ]
  },
  {
   "cell_type": "code",
   "execution_count": null,
   "id": "af3632d4",
   "metadata": {},
   "outputs": [],
   "source": [
    "anuncio = soup.find('div',{'class':'well card'})\n",
    "anuncio"
   ]
  },
  {
   "cell_type": "markdown",
   "id": "70235a0c",
   "metadata": {},
   "source": [
    "###### Obtendo o valor do veiculo anunciado"
   ]
  },
  {
   "cell_type": "code",
   "execution_count": null,
   "id": "bcf82df5",
   "metadata": {},
   "outputs": [],
   "source": [
    "anuncio.find('div',{'class':'value-card'})"
   ]
  },
  {
   "cell_type": "code",
   "execution_count": null,
   "id": "8944fdfe",
   "metadata": {},
   "outputs": [],
   "source": [
    "anuncio.find('p',{'class': 'txt-value'}).getText()"
   ]
  },
  {
   "cell_type": "code",
   "execution_count": null,
   "id": "8c57543c",
   "metadata": {},
   "outputs": [],
   "source": [
    "card['value'] = anuncio.find('p',{'class': 'txt-value'}).getText"
   ]
  },
  {
   "cell_type": "code",
   "execution_count": null,
   "id": "9bb46dae",
   "metadata": {},
   "outputs": [],
   "source": [
    "card"
   ]
  },
  {
   "cell_type": "markdown",
   "id": "491d9d6e",
   "metadata": {},
   "source": [
    "Resumo"
   ]
  },
  {
   "cell_type": "code",
   "execution_count": null,
   "id": "e47801a6",
   "metadata": {},
   "outputs": [],
   "source": [
    "#valor\n",
    "card['value'] = anuncio.find('p',{'class': 'txt-value'}).getText()"
   ]
  },
  {
   "cell_type": "code",
   "execution_count": null,
   "id": "4b73698b",
   "metadata": {},
   "outputs": [],
   "source": [
    "card"
   ]
  },
  {
   "cell_type": "markdown",
   "id": "d4cc3b5e",
   "metadata": {},
   "source": [
    "5.6- Obtendo as informações sobre o veiculo anuciado"
   ]
  },
  {
   "cell_type": "code",
   "execution_count": null,
   "id": "2efbb61c",
   "metadata": {},
   "outputs": [],
   "source": [
    "anuncio.find('div',{'class':'body-card'}).findAll('p')"
   ]
  },
  {
   "cell_type": "code",
   "execution_count": null,
   "id": "9e914c3e",
   "metadata": {},
   "outputs": [],
   "source": [
    "infos = anuncio.find('div',{'class': 'body-card'}).findAll('p')"
   ]
  },
  {
   "cell_type": "code",
   "execution_count": null,
   "id": "2ba57685",
   "metadata": {},
   "outputs": [],
   "source": [
    "for info in infos:\n",
    "    print(info.get('class'),' - ', info.get_text())"
   ]
  },
  {
   "cell_type": "code",
   "execution_count": null,
   "id": "3be569d4",
   "metadata": {},
   "outputs": [],
   "source": [
    "#selecionando apenas o item 1\n",
    "\n",
    "for info in infos:\n",
    "    print(info.get('class')[0],'-', info.get_text())"
   ]
  },
  {
   "cell_type": "code",
   "execution_count": null,
   "id": "cecec1a1",
   "metadata": {},
   "outputs": [],
   "source": [
    "for info in infos:\n",
    "    print(info.get('class')[0].split('-'),'-', info.get_text())"
   ]
  },
  {
   "cell_type": "code",
   "execution_count": null,
   "id": "d49c5ab9",
   "metadata": {},
   "outputs": [],
   "source": [
    "for info in infos:\n",
    "    print(info.get('class')[0].split('-')[-1],'-', info.get_text())"
   ]
  },
  {
   "cell_type": "markdown",
   "id": "6e843450",
   "metadata": {},
   "source": [
    "##### Resumo"
   ]
  },
  {
   "cell_type": "code",
   "execution_count": null,
   "id": "3c464f87",
   "metadata": {},
   "outputs": [],
   "source": [
    "infos = anuncio.find('div',{'class': 'body-card'}).findAll('p')\n",
    "for info in infos:\n",
    "    card[info.get('class')[0].split('-')[-1]]=info.get_text()"
   ]
  },
  {
   "cell_type": "code",
   "execution_count": null,
   "id": "cafa4c56",
   "metadata": {},
   "outputs": [],
   "source": [
    "card"
   ]
  },
  {
   "cell_type": "markdown",
   "id": "0aef3007",
   "metadata": {},
   "source": [
    "5.8 Obtendo os acessórios do veiculo anunciado"
   ]
  },
  {
   "cell_type": "code",
   "execution_count": null,
   "id": "268255f6",
   "metadata": {},
   "outputs": [],
   "source": [
    "anuncio.find('div', {'class': 'body-card'}).ul.findAll('li')"
   ]
  },
  {
   "cell_type": "code",
   "execution_count": null,
   "id": "2cefbd9c",
   "metadata": {},
   "outputs": [],
   "source": [
    "items = anuncio.find('div', {'class': 'body-card'}).ul.findAll('li')\n",
    "items"
   ]
  },
  {
   "cell_type": "code",
   "execution_count": null,
   "id": "51044b52",
   "metadata": {},
   "outputs": [],
   "source": [
    "#Retirando o ultimo item da lista\n",
    "items.pop()"
   ]
  },
  {
   "cell_type": "code",
   "execution_count": null,
   "id": "eed59488",
   "metadata": {},
   "outputs": [],
   "source": [
    "items"
   ]
  },
  {
   "cell_type": "code",
   "execution_count": null,
   "id": "6af8c99e",
   "metadata": {},
   "outputs": [],
   "source": [
    "for item in items:\n",
    "    print(item.getText())"
   ]
  },
  {
   "cell_type": "code",
   "execution_count": null,
   "id": "920eeb35",
   "metadata": {},
   "outputs": [],
   "source": [
    "for item in items:\n",
    "    print(item.getText().replace('►', ''))"
   ]
  },
  {
   "cell_type": "code",
   "execution_count": null,
   "id": "07106e17",
   "metadata": {},
   "outputs": [],
   "source": [
    "acessorios = []\n",
    "for item in items:\n",
    "    acessorios.append(item.getText().replace('►', ''))"
   ]
  },
  {
   "cell_type": "code",
   "execution_count": null,
   "id": "104e30e1",
   "metadata": {},
   "outputs": [],
   "source": [
    "acessorios"
   ]
  },
  {
   "cell_type": "code",
   "execution_count": null,
   "id": "7fd059c9",
   "metadata": {},
   "outputs": [],
   "source": [
    "card['items'] =  acessorios"
   ]
  },
  {
   "cell_type": "code",
   "execution_count": null,
   "id": "3eb8ce74",
   "metadata": {
    "scrolled": true
   },
   "outputs": [],
   "source": [
    "card"
   ]
  },
  {
   "cell_type": "markdown",
   "id": "78644254",
   "metadata": {},
   "source": [
    "Resumo"
   ]
  },
  {
   "cell_type": "code",
   "execution_count": null,
   "id": "e0eb5a3a",
   "metadata": {},
   "outputs": [],
   "source": [
    "#Acessorios\n",
    "items = anuncio.find('div', {'class': 'body-card'}).ul.findAll('li')\n",
    "items.pop()\n",
    "acessorios = []\n",
    "for item in items:\n",
    "    acessorios.append(item.getText().replace('► ', ''))\n",
    "card['items'] = acessorios"
   ]
  },
  {
   "cell_type": "markdown",
   "id": "299e19c6",
   "metadata": {},
   "source": [
    "5.10- Criando um datFrame"
   ]
  },
  {
   "cell_type": "code",
   "execution_count": null,
   "id": "449f252d",
   "metadata": {},
   "outputs": [],
   "source": [
    "dataset =  pd.DataFrame(card)"
   ]
  },
  {
   "cell_type": "code",
   "execution_count": null,
   "id": "8c130d7c",
   "metadata": {},
   "outputs": [],
   "source": [
    "dataset"
   ]
  },
  {
   "cell_type": "code",
   "execution_count": null,
   "id": "86587019",
   "metadata": {},
   "outputs": [],
   "source": [
    "dataset =  pd.DataFrame.from_dict(card, orient = 'index')\n",
    "dataset"
   ]
  },
  {
   "cell_type": "code",
   "execution_count": null,
   "id": "ab1284e3",
   "metadata": {},
   "outputs": [],
   "source": [
    "dataset =  pd.DataFrame.from_dict(card, orient = 'index').T\n",
    "dataset"
   ]
  },
  {
   "cell_type": "code",
   "execution_count": null,
   "id": "940a7b08",
   "metadata": {},
   "outputs": [],
   "source": [
    "#Salvando o arquivo\n",
    "dataset.to_csv('data', sep=';', index= False, encoding='utf-8-sig')"
   ]
  },
  {
   "cell_type": "markdown",
   "id": "6a63605f",
   "metadata": {},
   "source": [
    "5.12 - Obtendo a foto do anúncio"
   ]
  },
  {
   "cell_type": "code",
   "execution_count": null,
   "id": "6bd9868a",
   "metadata": {},
   "outputs": [],
   "source": [
    "image = anuncio.find('div', {'class': 'image-card'}).img\n",
    "image"
   ]
  },
  {
   "cell_type": "code",
   "execution_count": null,
   "id": "53fa3f46",
   "metadata": {},
   "outputs": [],
   "source": [
    "image.get('src')"
   ]
  },
  {
   "cell_type": "code",
   "execution_count": null,
   "id": "f2396bda",
   "metadata": {},
   "outputs": [],
   "source": [
    "print(image.get('src'))"
   ]
  },
  {
   "cell_type": "markdown",
   "id": "ab7e6584",
   "metadata": {},
   "source": [
    "###### Visualizando a Foto no notebook (extra)"
   ]
  },
  {
   "cell_type": "code",
   "execution_count": null,
   "id": "191f1229",
   "metadata": {},
   "outputs": [],
   "source": [
    "from IPython.core.display import display, HTML"
   ]
  },
  {
   "cell_type": "code",
   "execution_count": null,
   "id": "df4a0fd2",
   "metadata": {},
   "outputs": [],
   "source": [
    "display(HTML(str(anuncio.find('div', {'class': 'image-card'}).img)))"
   ]
  },
  {
   "cell_type": "code",
   "execution_count": null,
   "id": "85ccb0fe",
   "metadata": {},
   "outputs": [],
   "source": [
    "display(HTML(\"<img src=\"+ anuncio.find('div', {'class': 'image-card'}).img.get('src')+ \">\"))"
   ]
  },
  {
   "cell_type": "markdown",
   "id": "004c3316",
   "metadata": {},
   "source": [
    "###### Rotina para acessar e salvara  FOTO do anúncio"
   ]
  },
  {
   "cell_type": "code",
   "execution_count": null,
   "id": "e54fd8f6",
   "metadata": {},
   "outputs": [],
   "source": [
    "from urllib.request import urlretrieve"
   ]
  },
  {
   "cell_type": "code",
   "execution_count": null,
   "id": "b799bdf9",
   "metadata": {},
   "outputs": [],
   "source": [
    "image.get('src').split('/')[-1]"
   ]
  },
  {
   "cell_type": "code",
   "execution_count": null,
   "id": "e51a4324",
   "metadata": {},
   "outputs": [],
   "source": [
    "urlretrieve(image.get('src'), './img/' + image.get('src').split('/')[-1] )"
   ]
  },
  {
   "cell_type": "markdown",
   "id": "0066e65a",
   "metadata": {},
   "source": [
    "Resumo"
   ]
  },
  {
   "cell_type": "code",
   "execution_count": null,
   "id": "cfda37cb",
   "metadata": {},
   "outputs": [],
   "source": [
    "image = anuncio.find('div', {'class': 'image-card'}).img\n",
    "urlretrieve(image.get('src'), './img/' + image.get('src').split('/')[-1] )"
   ]
  },
  {
   "cell_type": "markdown",
   "id": "aef5bbc4",
   "metadata": {},
   "source": [
    "##### Web Scarpring da página inteira"
   ]
  },
  {
   "cell_type": "markdown",
   "id": "80eb2dd4",
   "metadata": {},
   "source": [
    "6.2 Indentificando informações no HTMl"
   ]
  },
  {
   "cell_type": "code",
   "execution_count": null,
   "id": "80d08bc8",
   "metadata": {},
   "outputs": [],
   "source": [
    "len(soup.find('div', {\"id\": \"container-cards\"}).findAll('div', class_=\"card\"))"
   ]
  },
  {
   "cell_type": "code",
   "execution_count": null,
   "id": "3ab1e62c",
   "metadata": {},
   "outputs": [],
   "source": [
    "anuncios = soup.find('div', {\"id\": \"container-cards\"}).findAll('div', class_=\"card\")"
   ]
  },
  {
   "cell_type": "code",
   "execution_count": null,
   "id": "315cbe56",
   "metadata": {},
   "outputs": [],
   "source": [
    "anuncios"
   ]
  },
  {
   "cell_type": "code",
   "execution_count": null,
   "id": "fbdd379c",
   "metadata": {},
   "outputs": [],
   "source": [
    "for anuncio in anuncios:\n",
    "    print(str(anuncio)+ '\\n\\n')"
   ]
  },
  {
   "cell_type": "markdown",
   "id": "ef21a34d",
   "metadata": {},
   "source": [
    "6.4- Criando uma rotina de scraping"
   ]
  },
  {
   "cell_type": "code",
   "execution_count": null,
   "id": "f42ed94a",
   "metadata": {},
   "outputs": [],
   "source": [
    "# Valor\n",
    "card['value'] = anuncio.find('p', {'class': 'txt-value'}).getText()\n",
    "\n",
    "# Informações\n",
    "infos = anuncio.find('div', {'class': 'body-card'}).findAll('p')\n",
    "for info in infos:\n",
    "    card[info.get('class')[0].split('-')[-1]] = info.get_text()\n",
    "\n",
    "# Acessórios\n",
    "items = anuncio.find('div', {'class': 'body-card'}).ul.findAll('li')\n",
    "items.pop()\n",
    "acessorios = []\n",
    "for item in items:\n",
    "    acessorios.append(item.get_text().replace('► ', ''))\n",
    "card['items'] = acessorios\n",
    "\n",
    "# Imagens\n",
    "image = anuncio.find('div', {'class': 'image-card'}).img\n",
    "urlretrieve(image.get('src'), './img/' + image.get('src').split('/')[-1] )   \n"
   ]
  },
  {
   "cell_type": "code",
   "execution_count": null,
   "id": "d3e89a76",
   "metadata": {},
   "outputs": [],
   "source": [
    "# Importando bibliotecas\n",
    "from urllib.request import urlopen, urlretrieve\n",
    "from bs4 import BeautifulSoup\n",
    "import pandas as pd\n",
    "\n",
    "# Declarando variável cards\n",
    "cards=[]\n",
    "\n",
    "# Obtendo o HTML\n",
    "response = urlopen('https://alura-site-scraping.herokuapp.com/index.php')\n",
    "html = response.read().decode('utf-8')\n",
    "soup = BeautifulSoup(html, 'html.parser')\n",
    "\n",
    "# Obtendo as TAGs de interesse\n",
    "anuncios = soup.find('div', {\"id\": \"container-cards\"}).findAll('div', class_=\"card\")\n",
    "\n",
    "# Coletando as informações dos cards\n",
    "for anuncio in anuncios:\n",
    "    cards={}\n",
    "    \n",
    "    # Valor\n",
    "    card['value'] = anuncio.find('p', {'class': 'txt-value'}).getText()\n",
    "\n",
    "    # Informações\n",
    "    infos = anuncio.find('div', {'class': 'body-card'}).findAll('p')\n",
    "    for info in infos:\n",
    "        card[info.get('class')[0].split('-')[-1]] = info.get_text()\n",
    "\n",
    "    # Acessórios\n",
    "    items = anuncio.find('div', {'class': 'body-card'}).ul.findAll('li')\n",
    "    items.pop()\n",
    "    acessorios = []\n",
    "    for item in items:\n",
    "        acessorios.append(item.get_text().replace('► ', ''))\n",
    "    card['items'] = acessorios\n",
    "\n",
    "    # Imagens\n",
    "    image = anuncio.find('div', {'class': 'image-card'}).img\n",
    "    urlretrieve(image.get('src'), './img/' + image.get('src').split('/')[-1] )   \n",
    "\n",
    "    \n",
    "# Criando um DataFrame com os resultados\n",
    "dataset= pd.dataFrame(cards)\n",
    "\n",
    "dataset.to_csv('dataset.csv', sep=';', index = False, encoding = 'utf-8-sig')"
   ]
  },
  {
   "cell_type": "code",
   "execution_count": null,
   "id": "0cbbee6a",
   "metadata": {},
   "outputs": [],
   "source": [
    "dataset"
   ]
  },
  {
   "cell_type": "code",
   "execution_count": null,
   "id": "0f0d7086",
   "metadata": {},
   "outputs": [],
   "source": [
    "'''\n",
    "# Importando bibliotecas\n",
    "from urllib.request import urlopen, urlretrieve\n",
    "from bs4 import BeautifulSoup\n",
    "import pandas as pd\n",
    "\n",
    "# Declarando variável cards\n",
    "cards = []\n",
    "\n",
    "//código omitido\n",
    "'''"
   ]
  },
  {
   "cell_type": "code",
   "execution_count": null,
   "id": "8d5e095c",
   "metadata": {},
   "outputs": [],
   "source": [
    "'''\n",
    "# Importando bibliotecas\n",
    "from urllib.request import urlopen, urlretrieve\n",
    "from bs4 import BeautifulSoup\n",
    "import pandas as pd\n",
    "\n",
    "# Declarando variável cards\n",
    "cards = []\n",
    "\n",
    "# Obtendo o HTML\n",
    "response = urlopen('https://alura-site-scraping.herokuapp.com/index.php')\n",
    "html = response.read().decode('utf-8')\n",
    "soup = BeautifulSoup(html, 'html.parser')\n",
    "\n",
    "# Obtendo as TAGs de interesse\n",
    "anuncios = soup.find('div', {\"id\": \"container-cards\"}).findAll('div', class_=\"card\")\n",
    "\n",
    "//código omitido\n",
    "'''"
   ]
  },
  {
   "cell_type": "code",
   "execution_count": null,
   "id": "0cf4a20f",
   "metadata": {},
   "outputs": [],
   "source": [
    "'''\n",
    "//código omitido\n",
    "\n",
    "# Coletando as informações dos CARDS\n",
    "for anuncio in anuncios:\n",
    "    card = {}\n",
    "\n",
    "    # Valor\n",
    "    card['value'] = anuncio.find('p', {'class': 'txt-value'}).getText()\n",
    "\n",
    "    # Informações\n",
    "    infos = anuncio.find('div', {'class': 'body-card'}).findAll('p')\n",
    "    for info in infos:\n",
    "        card[info.get('class')[0].split('-')[-1]] = info.get_text()\n",
    "\n",
    "    # Acessórios\n",
    "    items = anuncio.find('div', {'class': 'body-card'}).ul.findAll('li')\n",
    "    items.pop()\n",
    "    acessorios = []\n",
    "    for item in items:\n",
    "        acessorios.append(item.get_text().replace('► ', ''))\n",
    "    card['items'] = acessorios\n",
    "\n",
    "    # Imagens\n",
    "    image = anuncio.find('div', {'class': 'image-card'}).img\n",
    "    urlretrieve(image.get('src'), './output/img/' + image.get('src').split('/')[-1])\n",
    "\n",
    "//código omitido\n",
    "'''"
   ]
  },
  {
   "cell_type": "code",
   "execution_count": null,
   "id": "1826f27a",
   "metadata": {},
   "outputs": [],
   "source": [
    "'''\n",
    "//código omitido\n",
    "\n",
    "# Coletando as informações dos CARDS\n",
    "for anuncio in anuncios:\n",
    "    card = {}\n",
    "\n",
    "    # Valor\n",
    "    card['value'] = anuncio.find('p', {'class': 'txt-value'}).getText()\n",
    "\n",
    "    # Informações\n",
    "    infos = anuncio.find('div', {'class': 'body-card'}).findAll('p')\n",
    "    for info in infos:\n",
    "        card[info.get('class')[0].split('-')[-1]] = info.get_text()\n",
    "\n",
    "    # Acessórios\n",
    "    items = anuncio.find('div', {'class': 'body-card'}).ul.findAll('li')\n",
    "    items.pop()\n",
    "    acessorios = []\n",
    "    for item in items:\n",
    "        acessorios.append(item.get_text().replace('► ', ''))\n",
    "    card['items'] = acessorios\n",
    "\n",
    "    # Adicionando resultado a lista cards\n",
    "    cards.append(card)\n",
    "\n",
    "    # Imagens\n",
    "    image = anuncio.find('div', {'class': 'image-card'}).img\n",
    "    urlretrieve(image.get('src'), './output/img/' + image.get('src').split('/')[-1])\n",
    "\n",
    "//código omitido\n",
    "'''"
   ]
  },
  {
   "cell_type": "code",
   "execution_count": null,
   "id": "e36ec942",
   "metadata": {},
   "outputs": [],
   "source": [
    "'''\n",
    "//código omitido\n",
    "\n",
    "# Criando um DataFrame com os resultados\n",
    "dataset = pd.DataFrame(cards)\n",
    "dataset.to_csv('./output/data/dataset.csv', sep=';', index = False, encoding = 'utf-8-sig')\n",
    "dataset\n",
    "'''"
   ]
  },
  {
   "cell_type": "markdown",
   "id": "dbb5fc77",
   "metadata": {},
   "source": [
    "##### 07 - Dados do site inteiro"
   ]
  },
  {
   "cell_type": "markdown",
   "id": "26a88cfe",
   "metadata": {},
   "source": [
    "7.2 - Identificando as informações no HTML\n"
   ]
  },
  {
   "cell_type": "code",
   "execution_count": null,
   "id": "3679e563",
   "metadata": {},
   "outputs": [],
   "source": [
    "soup.find('span', class_='info-pages')"
   ]
  },
  {
   "cell_type": "code",
   "execution_count": null,
   "id": "a599496c",
   "metadata": {},
   "outputs": [],
   "source": [
    "soup.find('span', class_='info-pages').get_text()"
   ]
  },
  {
   "cell_type": "code",
   "execution_count": null,
   "id": "d7085a69",
   "metadata": {},
   "outputs": [],
   "source": [
    "soup.find('span', class_='info-pages').get_text().split()"
   ]
  },
  {
   "cell_type": "code",
   "execution_count": null,
   "id": "d6a29d90",
   "metadata": {},
   "outputs": [],
   "source": [
    "soup.find('span', class_='info-pages').get_text().split()[-1]"
   ]
  },
  {
   "cell_type": "code",
   "execution_count": null,
   "id": "ebfd5b80",
   "metadata": {},
   "outputs": [],
   "source": [
    "int(soup.find('span', class_='info-pages').get_text().split()[-1])"
   ]
  },
  {
   "cell_type": "markdown",
   "id": "36b7eb67",
   "metadata": {},
   "source": [
    "\n",
    "7.4 - Criando uma rotina de scraping"
   ]
  },
  {
   "cell_type": "code",
   "execution_count": null,
   "id": "721b5731",
   "metadata": {},
   "outputs": [],
   "source": [
    "# Importando bibliotecas\n",
    "from urllib.request import urlopen, urlretrieve\n",
    "from bs4 import BeautifulSoup\n",
    "import pandas as pd\n",
    "\n",
    "# Declarando variável cards\n",
    "cards = []\n",
    "\n",
    "## Obtendo o HTML e o total de páginas\n",
    "response = urlopen('https://alura-site-scraping.herokuapp.com/index.php')\n",
    "html = response.read().decode('utf-8')\n",
    "soup = BeautifulSoup(html, 'html.parser')\n",
    "pages = int(soup.find('span', class_=\"info-pages\").get_text().split()[-1])\n",
    "\n",
    "## Iterando por todas as páginas do site\n",
    "for i in range(pages):\n",
    "    ## Obtendo o HTML\n",
    "    response = urlopen('https://alura-site-scraping.herokuapp.com/index.php?page=' + str(i + 1))\n",
    "    html = response.read().decode('utf-8')\n",
    "    soup = BeautifulSoup(html, 'html.parser')\n",
    "\n",
    "    # Obtendo as TAGs de interesse\n",
    "    anuncios = soup.find('div', {\"id\": \"container-cards\"}).findAll('div', class_=\"card\")\n",
    "\n",
    "    # Coletando as informações dos CARDS\n",
    "    for anuncio in anuncios:\n",
    "        card = {}\n",
    "\n",
    "        # Valor\n",
    "        card['value'] = anuncio.find('p', {'class': 'txt-value'}).getText()\n",
    "\n",
    "        # Informações\n",
    "        infos = anuncio.find('div', {'class': 'body-card'}).findAll('p')\n",
    "        for info in infos:\n",
    "            card[info.get('class')[0].split('-')[-1]] = info.get_text()\n",
    "\n",
    "        # Acessórios\n",
    "        items = anuncio.find('div', {'class': 'body-card'}).ul.findAll('li')\n",
    "        items.pop()\n",
    "        acessorios = []\n",
    "        for item in items:\n",
    "            acessorios.append(item.get_text().replace('► ', ''))\n",
    "        card['items'] = acessorios\n",
    "\n",
    "        # Adicionando resultado a lista cards\n",
    "        cards.append(card)\n",
    "\n",
    "        # Imagens\n",
    "        image = anuncio.find('div', {'class': 'image-card'}).img\n",
    "        urlretrieve(image.get('src'), 'img/' + image.get('src').split('/')[-1])     \n",
    "\n",
    "\n",
    "# Criando um DataFrame com os resultados\n",
    "dataset = pd.DataFrame(cards)\n",
    "dataset.to_csv('./output/data/dataset.csv', sep=';', index = False, encoding = 'utf-8-sig')\n",
    "dataset"
   ]
  },
  {
   "cell_type": "code",
   "execution_count": null,
   "id": "dc474941",
   "metadata": {},
   "outputs": [],
   "source": [
    "cards"
   ]
  },
  {
   "cell_type": "code",
   "execution_count": null,
   "id": "40f08042",
   "metadata": {},
   "outputs": [],
   "source": [
    "for i in range(25):\n",
    "    print('https://alura-site-scraping.herokuapp.com/index.php' + str(i + 1))"
   ]
  }
 ],
 "metadata": {
  "kernelspec": {
   "display_name": "Python 3 (ipykernel)",
   "language": "python",
   "name": "python3"
  },
  "language_info": {
   "codemirror_mode": {
    "name": "ipython",
    "version": 3
   },
   "file_extension": ".py",
   "mimetype": "text/x-python",
   "name": "python",
   "nbconvert_exporter": "python",
   "pygments_lexer": "ipython3",
   "version": "3.9.7"
  }
 },
 "nbformat": 4,
 "nbformat_minor": 5
}
