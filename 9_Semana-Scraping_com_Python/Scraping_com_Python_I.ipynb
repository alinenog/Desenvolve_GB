{
 "cells": [
  {
   "cell_type": "markdown",
   "metadata": {},
   "source": [
    "# <font color='green' style='font-size: 30px backgound =;'> Scraping com Python: coleta de dados na web - I </font>\n",
    "<hr style='border: 2px solid green;'>"
   ]
  },
  {
   "cell_type": "markdown",
   "metadata": {},
   "source": [
    "##### 01- Nosso primeiro scraping"
   ]
  },
  {
   "cell_type": "markdown",
   "metadata": {},
   "source": [
    "pip install beautifulsoup4"
   ]
  },
  {
   "cell_type": "markdown",
   "metadata": {},
   "source": [
    "Realizando raspagem da página"
   ]
  },
  {
   "cell_type": "code",
   "execution_count": 1,
   "metadata": {},
   "outputs": [],
   "source": [
    "import pandas as pd\n",
    "from urllib.request import urlopen # para fazermos a requisição no servidor e obtermos uma resposta\n",
    "from bs4 import BeautifulSoup  #transformará essa resposta em um objeto navegável para acessarmos as informações de forma mais simples"
   ]
  },
  {
   "cell_type": "code",
   "execution_count": 2,
   "metadata": {},
   "outputs": [
    {
     "data": {
      "text/plain": [
       "b'<!DOCTYPE html>\\r\\n<html lang=\"pt-br\">\\r\\n<head>\\r\\n    <meta charset=\"utf-8\">\\r\\n    <meta name=\"viewport\" content=\"width=device-width, initial-scale=1, shrink-to-fit=no\">\\r\\n\\r\\n    <title>Alura Motors</title>\\r\\n\\r\\n\\t<style>\\r\\n\\t\\t/*Regra para a animacao*/\\r\\n\\t\\t@keyframes spin {\\r\\n\\t\\t\\t0% { transform: rotate(0deg); }\\r\\n\\t\\t\\t100% { transform: rotate(360deg); }\\r\\n\\t\\t}\\r\\n\\t\\t/*Mudando o tamanho do icone de resposta*/\\r\\n\\t\\tdiv.glyphicon {\\r\\n\\t\\t\\tcolor:#6B8E23;\\r\\n\\t\\t\\tfont-size: 38px;\\r\\n\\t\\t}\\r\\n\\t\\t/*Classe que mostra a animacao \\'spin\\'*/\\r\\n\\t\\t.loader {\\r\\n\\t\\t\\tborder: 16px solid #f3f3f3;\\r\\n\\t\\t\\tborder-radius: 50%;\\r\\n\\t\\t\\tborder-top: 16px solid #3498db;\\r\\n\\t\\t\\twidth: 80px;\\r\\n\\t\\t\\theight: 80px;\\r\\n\\t\\t\\t-webkit-animation: spin 2s linear infinite;\\r\\n\\t\\t\\tanimation: spin 2s linear infinite;\\r\\n\\t\\t}\\r\\n\\t</style>\\r\\n\\t<link rel=\"stylesheet\" href=\"https://maxcdn.bootstrapcdn.com/bootstrap/3.3.7/css/bootstrap.min.css\" integrity=\"sha384-BVYiiSIFeK1dGmJRAkycuHAHRg32OmUcww7on3RYdg4Va+PmSTsz/K68vbdEjh4u\" crossorigin=\"anonymous\">\\r\\n\\t<link rel=\"stylesheet\" href=\"css/styles.css\" media=\"all\">\\r\\n\\r\\n\\t<script src=\"https://code.jquery.com/jquery-1.12.4.js\"></script>\\r\\n\\t<script src=\"https://maxcdn.bootstrapcdn.com/bootstrap/3.3.7/js/bootstrap.min.js\" integrity=\"sha384-Tc5IQib027qvyjSMfHjOMaLkfuWVxZxUPnCJA7l2mCWNIpG9mGCD8wGNIcPD7Txa\" crossorigin=\"anonymous\"></script>\\r\\n\\t<script type=\"text/javascript\" src=\"js/index.js\"></script>\\r\\n\\t<script>\\r\\n\\t\\trequisitar(\"https://alura-scraping.herokuapp.com/produtos?_page=\"+1+\"&_limit=10\")\\r\\n\\t</script>\\r\\n\\r\\n</head>\\r\\n<body cz-shortcut-listen=\"true\">\\r\\n    <noscript>You need to enable JavaScript to run this app.</noscript>\\r\\n\\r\\n\\t<div class=\"modal fade\" data-backdrop=\"static\" id=\"loadingModal\" tabindex=\"-1\" role=\"dialog\" aria-labelledby=\"loadingModal_label\">\\r\\n\\t\\t<div class=\"modal-dialog\" role=\"document\">\\r\\n\\t\\t\\t<div class=\"modal-content\">\\r\\n\\t\\t\\t\\t<div class=\"modal-header\">\\r\\n\\t\\t\\t\\t\\t<h5 class=\"modal-title\" id=\"loadingModal_label\">\\r\\n\\t\\t\\t\\t\\t\\t<span class=\"glyphicon glyphicon-refresh\"></span>Aguarde...\\r\\n\\t\\t\\t\\t\\t</h5>\\r\\n\\t\\t\\t\\t</div>\\r\\n\\t\\t\\t\\t<div class=\"modal-body\">\\r\\n\\t\\t\\t\\t\\t<div class=\\'alert\\' role=\\'alert\\'>\\r\\n\\t\\t\\t\\t\\t\\t<center>\\r\\n\\t\\t\\t\\t\\t\\t\\t<div class=\"loader\" id=\"loader\"></div><br>\\r\\n\\t\\t\\t\\t\\t\\t\\t<h4><b id=\"loadingModal_content\"></b></h4>\\r\\n\\t\\t\\t\\t\\t\\t</center>\\r\\n\\t\\t\\t\\t\\t</div>\\r\\n\\t\\t\\t\\t</div>\\r\\n\\t\\t\\t</div>\\r\\n\\t\\t</div>\\r\\n\\t</div>\\r\\n\\r\\n    <div id=\"root\">\\r\\n\\t\\t<header>\\r\\n\\t\\t\\t<nav class=\"navbar navbar-inverse\" style=\"margin-bottom: 0;\">\\r\\n\\t\\t\\t\\t<div class=\"container\" style=\"margin-bottom: -20px;\">\\r\\n\\t\\t\\t\\t\\t<div class=\"navbar\">\\r\\n\\t\\t\\t\\t\\t\\t<a href=\"./index.php\" class=\"navbar-brand\" title=\"Alura Motors\">\\r\\n\\t\\t\\t\\t\\t\\t\\t<img src=\"img/alura-logo.svg\" class=\"d-inline-block align-top\" alt=\"Alura\">Motors\\r\\n\\t\\t\\t\\t\\t\\t</a>\\r\\n\\t\\t\\t\\t\\t\\t<ul class=\"nav navbar-nav\" style=\"margin-top: 35px;\">\\r\\n\\t\\t\\t\\t\\t\\t\\t<li><a href=\"./hello-world.php\">Hello World</a></li>\\r\\n\\t\\t\\t\\t\\t\\t\\t<li><a href=\"./index.php\">An\\xc3\\xbancios</a></li>\\r\\n\\t\\t\\t\\t\\t\\t</ul>\\r\\n\\t\\t\\t\\t\\t</div>\\r\\n\\t\\t\\t\\t</div>\\r\\n\\t\\t\\t</nav>\\r\\n\\t\\t</header>\\r\\n\\r\\n\\t\\t<div class=\"container\">\\r\\n\\t\\t\\t<h1 class=\"sub-header\">Ve\\xc3\\xadculos de Luxo Novos e Usados - Todas as Marcas</h1>\\r\\n\\t\\t\\t<div class=\"row\">\\r\\n\\t\\t\\t\\t<div class=\"col-md-12\">\\r\\n\\t\\t\\t\\t\\t<div class=\"container\" style=\"width: 100%\">\\r\\n\\t\\t\\t\\t\\t\\t<div class=\"type-select\">246 ve\\xc3\\xadculos encontrados</div>\\r\\n\\t\\t\\t\\t\\t\\t\\t<div class=\"container-pagination\" style=\"float: right\">\\r\\n\\t\\t\\t\\t\\t\\t\\t\\t<span class=\"info-pages\">P\\xc3\\xa1gina 1 de 25</span>\\r\\n\\t\\t\\t\\t\\t\\t\\t</div>\\r\\n\\t\\t\\t\\t\\t\\t</div>\\r\\n\\t\\t\\t\\t\\t\\t<div id=\"container-cards\" style=\"height: 100%\">\\r\\n\\t\\t\\t\\t\\t\\t\\t\\r\\n                <div class=\"well card\">\\r\\n                    <div class=\"col-md-3 image-card\">\\r\\n                        <img width=\"220\" height=\"155\" alt=\"Foto\" src=\"https://caelum-online-public.s3.amazonaws.com/1381-scraping/01/img-cars/lamborghini-aventador/lamborghini-aventador-2932196__340.jpg\">\\r\\n                    </div>\\r\\n                    <div class=\"col-md-6 body-card\">\\r\\n                        <p class=\"txt-name inline\">LAMBORGHINI AVENTADOR</p>\\r\\n                            <p class=\"txt-category badge badge-secondary inline\">USADO</p>\\r\\n                            \\r\\n                        <p class=\"txt-motor\">Motor 1.8 16v</p>\\r\\n                        <p class=\"txt-description\">Ano 1993 - 55.286 km</p>\\r\\n                        <ul class=\"lst-items\">\\r\\n                            <li class=\"txt-items\">\\xe2\\x96\\xba 4 X 4</li>\\r\\n                            <li class=\"txt-items\">\\xe2\\x96\\xba C\\xc3\\xa2mera de estacionamento</li>\\r\\n                            <li class=\"txt-items\">\\xe2\\x96\\xba Controle de tra\\xc3\\xa7\\xc3\\xa3o</li>\\r\\n                            <li class=\"txt-items\">\\xe2\\x96\\xba Sensor de estacionamento</li>\\r\\n                            <li class=\"txt-items\">...</li>\\r\\n                        </ul>\\r\\n                        <p class=\"txt-location\">Belo Horizonte - MG</p>\\r\\n                    </div>\\r\\n                    <div class=\"col-md-3 value-card\">\\r\\n                        <div class=\"value\">\\r\\n                            <p class=\"txt-value\">R$ 338.000</p>\\r\\n                        </div>\\r\\n                    </div>\\r\\n                </div>\\r\\n                <div class=\"well card\">\\r\\n                    <div class=\"col-md-3 image-card\">\\r\\n                        <img width=\"220\" height=\"155\" alt=\"Foto\" src=\"https://caelum-online-public.s3.amazonaws.com/1381-scraping/01/img-cars/bmw-m2/bmw-m2-2970882__340.jpg\">\\r\\n                    </div>\\r\\n                    <div class=\"col-md-6 body-card\">\\r\\n                        <p class=\"txt-name inline\">BMW M2</p>\\r\\n                            <p class=\"txt-category badge badge-secondary inline\">USADO</p>\\r\\n                            \\r\\n                        <p class=\"txt-motor\">Motor 3.0 32v</p>\\r\\n                        <p class=\"txt-description\">Ano 2018 - 83.447 km</p>\\r\\n                        <ul class=\"lst-items\">\\r\\n                            <li class=\"txt-items\">\\xe2\\x96\\xba C\\xc3\\xa2mera de estacionamento</li>\\r\\n                            <li class=\"txt-items\">\\xe2\\x96\\xba Controle de estabilidade</li>\\r\\n                            <li class=\"txt-items\">\\xe2\\x96\\xba Travas el\\xc3\\xa9tricas</li>\\r\\n                            <li class=\"txt-items\">\\xe2\\x96\\xba Freios ABS</li>\\r\\n                            <li class=\"txt-items\">...</li>\\r\\n                        </ul>\\r\\n                        <p class=\"txt-location\">Belo Horizonte - MG</p>\\r\\n                    </div>\\r\\n                    <div class=\"col-md-3 value-card\">\\r\\n                        <div class=\"value\">\\r\\n                            <p class=\"txt-value\">R$ 346.000</p>\\r\\n                        </div>\\r\\n                    </div>\\r\\n                </div>\\r\\n                <div class=\"well card\">\\r\\n                    <div class=\"col-md-3 image-card\">\\r\\n                        <img width=\"220\" height=\"155\" alt=\"Foto\" src=\"https://caelum-online-public.s3.amazonaws.com/1381-scraping/01/img-cars/alfa/alfa-1823056__340.jpg\">\\r\\n                    </div>\\r\\n                    <div class=\"col-md-6 body-card\">\\r\\n                        <p class=\"txt-name inline\">ALFA</p>\\r\\n                            <p class=\"txt-category badge badge-secondary inline\">USADO</p>\\r\\n                            \\r\\n                        <p class=\"txt-motor\">Motor 1.8 16v</p>\\r\\n                        <p class=\"txt-description\">Ano 2004 - 19.722 km</p>\\r\\n                        <ul class=\"lst-items\">\\r\\n                            <li class=\"txt-items\">\\xe2\\x96\\xba Central multim\\xc3\\xaddia</li>\\r\\n                            <li class=\"txt-items\">\\xe2\\x96\\xba Bancos de couro</li>\\r\\n                            <li class=\"txt-items\">\\xe2\\x96\\xba Rodas de liga</li>\\r\\n                            <li class=\"txt-items\">\\xe2\\x96\\xba C\\xc3\\xa2mera de estacionamento</li>\\r\\n                            <li class=\"txt-items\">...</li>\\r\\n                        </ul>\\r\\n                        <p class=\"txt-location\">Rio de Janeiro - RJ</p>\\r\\n                    </div>\\r\\n                    <div class=\"col-md-3 value-card\">\\r\\n                        <div class=\"value\">\\r\\n                            <p class=\"txt-value\">R$ 480.000</p>\\r\\n                        </div>\\r\\n                    </div>\\r\\n                </div>\\r\\n                <div class=\"well card\">\\r\\n                    <div class=\"col-md-3 image-card\">\\r\\n                        <img width=\"220\" height=\"155\" alt=\"Foto\" src=\"https://caelum-online-public.s3.amazonaws.com/1381-scraping/01/img-cars/puech/puech-4055386__340.jpg\">\\r\\n                    </div>\\r\\n                    <div class=\"col-md-6 body-card\">\\r\\n                        <p class=\"txt-name inline\">PUECH</p>\\r\\n                            <p class=\"txt-category badge badge-secondary inline\">USADO</p>\\r\\n                            \\r\\n                        <p class=\"txt-motor\">Motor Diesel V8</p>\\r\\n                        <p class=\"txt-description\">Ano 1992 - 34.335 km</p>\\r\\n                        <ul class=\"lst-items\">\\r\\n                            <li class=\"txt-items\">\\xe2\\x96\\xba Bancos de couro</li>\\r\\n                            <li class=\"txt-items\">\\xe2\\x96\\xba Freios ABS</li>\\r\\n                            <li class=\"txt-items\">\\xe2\\x96\\xba Rodas de liga</li>\\r\\n                            <li class=\"txt-items\">\\xe2\\x96\\xba C\\xc3\\xa2mbio autom\\xc3\\xa1tico</li>\\r\\n                            <li class=\"txt-items\">...</li>\\r\\n                        </ul>\\r\\n                        <p class=\"txt-location\">S\\xc3\\xa3o Paulo - SP</p>\\r\\n                    </div>\\r\\n                    <div class=\"col-md-3 value-card\">\\r\\n                        <div class=\"value\">\\r\\n                            <p class=\"txt-value\">R$ 133.000</p>\\r\\n                        </div>\\r\\n                    </div>\\r\\n                </div>\\r\\n                <div class=\"well card\">\\r\\n                    <div class=\"col-md-3 image-card\">\\r\\n                        <img width=\"220\" height=\"155\" alt=\"Foto\" src=\"https://caelum-online-public.s3.amazonaws.com/1381-scraping/01/img-cars/lamborghini-murcielago/lamborghini-murcielago-2872974__340.jpg\">\\r\\n                    </div>\\r\\n                    <div class=\"col-md-6 body-card\">\\r\\n                        <p class=\"txt-name inline\">LAMBORGHINI MURCIELAGO</p>\\r\\n                            <p class=\"txt-category badge badge-secondary inline\">USADO</p>\\r\\n                            \\r\\n                        <p class=\"txt-motor\">Motor 1.0 8v</p>\\r\\n                        <p class=\"txt-description\">Ano 1991 - 464 km</p>\\r\\n                        <ul class=\"lst-items\">\\r\\n                            <li class=\"txt-items\">\\xe2\\x96\\xba Central multim\\xc3\\xaddia</li>\\r\\n                            <li class=\"txt-items\">\\xe2\\x96\\xba Teto panor\\xc3\\xa2mico</li>\\r\\n                            <li class=\"txt-items\">\\xe2\\x96\\xba Sensor crepuscular</li>\\r\\n                            <li class=\"txt-items\">\\xe2\\x96\\xba Piloto autom\\xc3\\xa1tico</li>\\r\\n                            <li class=\"txt-items\">...</li>\\r\\n                        </ul>\\r\\n                        <p class=\"txt-location\">Belo Horizonte - MG</p>\\r\\n                    </div>\\r\\n                    <div class=\"col-md-3 value-card\">\\r\\n                        <div class=\"value\">\\r\\n                            <p class=\"txt-value\">R$ 175.000</p>\\r\\n                        </div>\\r\\n                    </div>\\r\\n                </div>\\r\\n                <div class=\"well card\">\\r\\n                    <div class=\"col-md-3 image-card\">\\r\\n                        <img width=\"220\" height=\"155\" alt=\"Foto\" src=\"https://caelum-online-public.s3.amazonaws.com/1381-scraping/01/img-cars/aston-martin/aston-martin-2977916__340.jpg\">\\r\\n                    </div>\\r\\n                    <div class=\"col-md-6 body-card\">\\r\\n                        <p class=\"txt-name inline\">ASTON MARTIN</p>\\r\\n                            <p class=\"txt-category badge badge-secondary inline\">USADO</p>\\r\\n                            <p class=\"txt-opportunity badge badge-danger inline\">OPORTUNIDADE</p>\\r\\n                        <p class=\"txt-motor\">Motor Diesel V6</p>\\r\\n                        <p class=\"txt-description\">Ano 2004 - 50.189 km</p>\\r\\n                        <ul class=\"lst-items\">\\r\\n                            <li class=\"txt-items\">\\xe2\\x96\\xba Painel digital</li>\\r\\n                            <li class=\"txt-items\">\\xe2\\x96\\xba Controle de tra\\xc3\\xa7\\xc3\\xa3o</li>\\r\\n                            <li class=\"txt-items\">\\xe2\\x96\\xba Teto panor\\xc3\\xa2mico</li>\\r\\n                            <li class=\"txt-items\">\\xe2\\x96\\xba Central multim\\xc3\\xaddia</li>\\r\\n                            <li class=\"txt-items\">...</li>\\r\\n                        </ul>\\r\\n                        <p class=\"txt-location\">Belo Horizonte - MG</p>\\r\\n                    </div>\\r\\n                    <div class=\"col-md-3 value-card\">\\r\\n                        <div class=\"value\">\\r\\n                            <p class=\"txt-value\">R$ 239.000</p>\\r\\n                        </div>\\r\\n                    </div>\\r\\n                </div>\\r\\n                <div class=\"well card\">\\r\\n                    <div class=\"col-md-3 image-card\">\\r\\n                        <img width=\"220\" height=\"155\" alt=\"Foto\" src=\"https://caelum-online-public.s3.amazonaws.com/1381-scraping/01/img-cars/tvr/tvr-2943925__340.jpg\">\\r\\n                    </div>\\r\\n                    <div class=\"col-md-6 body-card\">\\r\\n                        <p class=\"txt-name inline\">TVR</p>\\r\\n                            <p class=\"txt-category badge badge-secondary inline\">USADO</p>\\r\\n                            \\r\\n                        <p class=\"txt-motor\">Motor 4.0 Turbo</p>\\r\\n                        <p class=\"txt-description\">Ano 2014 - 17.778 km</p>\\r\\n                        <ul class=\"lst-items\">\\r\\n                            <li class=\"txt-items\">\\xe2\\x96\\xba 4 X 4</li>\\r\\n                            <li class=\"txt-items\">\\xe2\\x96\\xba Teto panor\\xc3\\xa2mico</li>\\r\\n                            <li class=\"txt-items\">\\xe2\\x96\\xba Central multim\\xc3\\xaddia</li>\\r\\n                            <li class=\"txt-items\">\\xe2\\x96\\xba Controle de estabilidade</li>\\r\\n                            <li class=\"txt-items\">...</li>\\r\\n                        </ul>\\r\\n                        <p class=\"txt-location\">Belo Horizonte - MG</p>\\r\\n                    </div>\\r\\n                    <div class=\"col-md-3 value-card\">\\r\\n                        <div class=\"value\">\\r\\n                            <p class=\"txt-value\">R$ 115.000</p>\\r\\n                        </div>\\r\\n                    </div>\\r\\n                </div>\\r\\n                <div class=\"well card\">\\r\\n                    <div class=\"col-md-3 image-card\">\\r\\n                        <img width=\"220\" height=\"155\" alt=\"Foto\" src=\"https://caelum-online-public.s3.amazonaws.com/1381-scraping/01/img-cars/excalibur/excalibur-2916730__340.jpg\">\\r\\n                    </div>\\r\\n                    <div class=\"col-md-6 body-card\">\\r\\n                        <p class=\"txt-name inline\">EXCALIBUR</p>\\r\\n                            <p class=\"txt-category badge badge-secondary inline\">USADO</p>\\r\\n                            \\r\\n                        <p class=\"txt-motor\">Motor 3.0 32v</p>\\r\\n                        <p class=\"txt-description\">Ano 2009 - 81.251 km</p>\\r\\n                        <ul class=\"lst-items\">\\r\\n                            <li class=\"txt-items\">\\xe2\\x96\\xba Painel digital</li>\\r\\n                            <li class=\"txt-items\">\\xe2\\x96\\xba C\\xc3\\xa2mbio autom\\xc3\\xa1tico</li>\\r\\n                            <li class=\"txt-items\">\\xe2\\x96\\xba Sensor de chuva</li>\\r\\n                            <li class=\"txt-items\">\\xe2\\x96\\xba Travas el\\xc3\\xa9tricas</li>\\r\\n                            <li class=\"txt-items\">...</li>\\r\\n                        </ul>\\r\\n                        <p class=\"txt-location\">Rio de Janeiro - RJ</p>\\r\\n                    </div>\\r\\n                    <div class=\"col-md-3 value-card\">\\r\\n                        <div class=\"value\">\\r\\n                            <p class=\"txt-value\">R$ 114.000</p>\\r\\n                        </div>\\r\\n                    </div>\\r\\n                </div>\\r\\n                <div class=\"well card\">\\r\\n                    <div class=\"col-md-3 image-card\">\\r\\n                        <img width=\"220\" height=\"155\" alt=\"Foto\" src=\"https://caelum-online-public.s3.amazonaws.com/1381-scraping/01/img-cars/mclaren/mclaren-2855240__340.jpg\">\\r\\n                    </div>\\r\\n                    <div class=\"col-md-6 body-card\">\\r\\n                        <p class=\"txt-name inline\">MCLAREN</p>\\r\\n                            <p class=\"txt-category badge badge-secondary inline\">NOVO</p>\\r\\n                            \\r\\n                        <p class=\"txt-motor\">Motor Diesel</p>\\r\\n                        <p class=\"txt-description\">Ano 2019 - 0 km</p>\\r\\n                        <ul class=\"lst-items\">\\r\\n                            <li class=\"txt-items\">\\xe2\\x96\\xba Central multim\\xc3\\xaddia</li>\\r\\n                            <li class=\"txt-items\">\\xe2\\x96\\xba C\\xc3\\xa2mera de estacionamento</li>\\r\\n                            <li class=\"txt-items\">\\xe2\\x96\\xba C\\xc3\\xa2mbio autom\\xc3\\xa1tico</li>\\r\\n                            <li class=\"txt-items\">\\xe2\\x96\\xba Ar condicionado</li>\\r\\n                            <li class=\"txt-items\">...</li>\\r\\n                        </ul>\\r\\n                        <p class=\"txt-location\">S\\xc3\\xa3o Paulo - SP</p>\\r\\n                    </div>\\r\\n                    <div class=\"col-md-3 value-card\">\\r\\n                        <div class=\"value\">\\r\\n                            <p class=\"txt-value\">R$ 75.000</p>\\r\\n                        </div>\\r\\n                    </div>\\r\\n                </div>\\r\\n                <div class=\"well card\">\\r\\n                    <div class=\"col-md-3 image-card\">\\r\\n                        <img width=\"220\" height=\"155\" alt=\"Foto\" src=\"https://caelum-online-public.s3.amazonaws.com/1381-scraping/01/img-cars/toyota/toyota-3245397__340.jpg\">\\r\\n                    </div>\\r\\n                    <div class=\"col-md-6 body-card\">\\r\\n                        <p class=\"txt-name inline\">TOYOTA</p>\\r\\n                            <p class=\"txt-category badge badge-secondary inline\">USADO</p>\\r\\n                            <p class=\"txt-opportunity badge badge-danger inline\">OPORTUNIDADE</p>\\r\\n                        <p class=\"txt-motor\">Motor 4.0 Turbo</p>\\r\\n                        <p class=\"txt-description\">Ano 1999 - 12.536 km</p>\\r\\n                        <ul class=\"lst-items\">\\r\\n                            <li class=\"txt-items\">\\xe2\\x96\\xba Bancos de couro</li>\\r\\n                            <li class=\"txt-items\">\\xe2\\x96\\xba Freios ABS</li>\\r\\n                            <li class=\"txt-items\">\\xe2\\x96\\xba Piloto autom\\xc3\\xa1tico</li>\\r\\n                            <li class=\"txt-items\">\\xe2\\x96\\xba Controle de estabilidade</li>\\r\\n                            <li class=\"txt-items\">...</li>\\r\\n                        </ul>\\r\\n                        <p class=\"txt-location\">S\\xc3\\xa3o Paulo - SP</p>\\r\\n                    </div>\\r\\n                    <div class=\"col-md-3 value-card\">\\r\\n                        <div class=\"value\">\\r\\n                            <p class=\"txt-value\">R$ 117.000</p>\\r\\n                        </div>\\r\\n                    </div>\\r\\n                </div>\\t\\t\\t\\t\\t\\t</div>\\r\\n\\t\\t\\t\\t\\t\\t<div class=\"type-select\">246 ve\\xc3\\xadculos encontrados</div>\\r\\n\\t\\t\\t\\t\\t\\t\\t<div class=\"container-pagination\" style=\"float: right\">\\r\\n\\t\\t\\t\\t\\t\\t\\t\\t<span class=\"info-pages\">P\\xc3\\xa1gina 1 de 25</span>\\r\\n\\t\\t\\t\\t\\t\\t\\t</div>\\r\\n\\t\\t\\t\\t\\t\\t</div>\\r\\n\\t\\t\\t\\t\\t</div>\\r\\n\\t\\t\\t\\t</div>\\r\\n\\t\\t\\t</div>\\r\\n\\t\\t</div>\\r\\n\\r\\n\\t\\t<footer>\\r\\n\\t\\t\\t<nav class=\"navbar navbar-inverse\">\\r\\n\\t\\t\\t\\t<div class=\"container\" style=\"margin-bottom: 10px;\">\\r\\n\\t\\t\\t\\t\\t<div class=\"navbar\">\\r\\n\\t\\t\\t\\t\\t\\t<a href=\"./index.php\" class=\"navbar-brand\" title=\"Alura Motors\">\\r\\n\\t\\t\\t\\t\\t\\t\\t<img src=\"img/alura-logo.svg\" class=\"d-inline-block align-top\" alt=\"Alura\">Motors\\r\\n\\t\\t\\t\\t\\t\\t</a>\\r\\n\\t\\t\\t\\t\\t\\t<p style=\"color: #fff; text-align: center; margin-top: 40px;\">Aplica\\xc3\\xa7\\xc3\\xa3o para treinamento de web scraping</p>\\r\\n\\t\\t\\t\\t\\t</div>\\r\\n\\t\\t\\t\\t</div>\\r\\n\\t\\t\\t</nav>\\r\\n\\t\\t</footer>\\r\\n\\r\\n\\t</div>\\r\\n\\r\\n</body>\\r\\n</html>\\r\\n'"
      ]
     },
     "execution_count": 2,
     "metadata": {},
     "output_type": "execute_result"
    }
   ],
   "source": [
    "url = 'https://alura-site-scraping.herokuapp.com/index.php'\n",
    "\n",
    "response = urlopen(url)\n",
    "html = response.read()\n",
    "html"
   ]
  },
  {
   "cell_type": "code",
   "execution_count": 3,
   "metadata": {
    "scrolled": true
   },
   "outputs": [
    {
     "data": {
      "text/plain": [
       "<!DOCTYPE html>\n",
       "\n",
       "<html lang=\"pt-br\">\n",
       "<head>\n",
       "<meta charset=\"utf-8\"/>\n",
       "<meta content=\"width=device-width, initial-scale=1, shrink-to-fit=no\" name=\"viewport\"/>\n",
       "<title>Alura Motors</title>\n",
       "<style>\n",
       "\t\t/*Regra para a animacao*/\n",
       "\t\t@keyframes spin {\n",
       "\t\t\t0% { transform: rotate(0deg); }\n",
       "\t\t\t100% { transform: rotate(360deg); }\n",
       "\t\t}\n",
       "\t\t/*Mudando o tamanho do icone de resposta*/\n",
       "\t\tdiv.glyphicon {\n",
       "\t\t\tcolor:#6B8E23;\n",
       "\t\t\tfont-size: 38px;\n",
       "\t\t}\n",
       "\t\t/*Classe que mostra a animacao 'spin'*/\n",
       "\t\t.loader {\n",
       "\t\t\tborder: 16px solid #f3f3f3;\n",
       "\t\t\tborder-radius: 50%;\n",
       "\t\t\tborder-top: 16px solid #3498db;\n",
       "\t\t\twidth: 80px;\n",
       "\t\t\theight: 80px;\n",
       "\t\t\t-webkit-animation: spin 2s linear infinite;\n",
       "\t\t\tanimation: spin 2s linear infinite;\n",
       "\t\t}\n",
       "\t</style>\n",
       "<link crossorigin=\"anonymous\" href=\"https://maxcdn.bootstrapcdn.com/bootstrap/3.3.7/css/bootstrap.min.css\" integrity=\"sha384-BVYiiSIFeK1dGmJRAkycuHAHRg32OmUcww7on3RYdg4Va+PmSTsz/K68vbdEjh4u\" rel=\"stylesheet\"/>\n",
       "<link href=\"css/styles.css\" media=\"all\" rel=\"stylesheet\"/>\n",
       "<script src=\"https://code.jquery.com/jquery-1.12.4.js\"></script>\n",
       "<script crossorigin=\"anonymous\" integrity=\"sha384-Tc5IQib027qvyjSMfHjOMaLkfuWVxZxUPnCJA7l2mCWNIpG9mGCD8wGNIcPD7Txa\" src=\"https://maxcdn.bootstrapcdn.com/bootstrap/3.3.7/js/bootstrap.min.js\"></script>\n",
       "<script src=\"js/index.js\" type=\"text/javascript\"></script>\n",
       "<script>\n",
       "\t\trequisitar(\"https://alura-scraping.herokuapp.com/produtos?_page=\"+1+\"&_limit=10\")\n",
       "\t</script>\n",
       "</head>\n",
       "<body cz-shortcut-listen=\"true\">\n",
       "<noscript>You need to enable JavaScript to run this app.</noscript>\n",
       "<div aria-labelledby=\"loadingModal_label\" class=\"modal fade\" data-backdrop=\"static\" id=\"loadingModal\" role=\"dialog\" tabindex=\"-1\">\n",
       "<div class=\"modal-dialog\" role=\"document\">\n",
       "<div class=\"modal-content\">\n",
       "<div class=\"modal-header\">\n",
       "<h5 class=\"modal-title\" id=\"loadingModal_label\">\n",
       "<span class=\"glyphicon glyphicon-refresh\"></span>Aguarde...\n",
       "\t\t\t\t\t</h5>\n",
       "</div>\n",
       "<div class=\"modal-body\">\n",
       "<div class=\"alert\" role=\"alert\">\n",
       "<center>\n",
       "<div class=\"loader\" id=\"loader\"></div><br/>\n",
       "<h4><b id=\"loadingModal_content\"></b></h4>\n",
       "</center>\n",
       "</div>\n",
       "</div>\n",
       "</div>\n",
       "</div>\n",
       "</div>\n",
       "<div id=\"root\">\n",
       "<header>\n",
       "<nav class=\"navbar navbar-inverse\" style=\"margin-bottom: 0;\">\n",
       "<div class=\"container\" style=\"margin-bottom: -20px;\">\n",
       "<div class=\"navbar\">\n",
       "<a class=\"navbar-brand\" href=\"./index.php\" title=\"Alura Motors\">\n",
       "<img alt=\"Alura\" class=\"d-inline-block align-top\" src=\"img/alura-logo.svg\"/>Motors\n",
       "\t\t\t\t\t\t</a>\n",
       "<ul class=\"nav navbar-nav\" style=\"margin-top: 35px;\">\n",
       "<li><a href=\"./hello-world.php\">Hello World</a></li>\n",
       "<li><a href=\"./index.php\">Anúncios</a></li>\n",
       "</ul>\n",
       "</div>\n",
       "</div>\n",
       "</nav>\n",
       "</header>\n",
       "<div class=\"container\">\n",
       "<h1 class=\"sub-header\">Veículos de Luxo Novos e Usados - Todas as Marcas</h1>\n",
       "<div class=\"row\">\n",
       "<div class=\"col-md-12\">\n",
       "<div class=\"container\" style=\"width: 100%\">\n",
       "<div class=\"type-select\">246 veículos encontrados</div>\n",
       "<div class=\"container-pagination\" style=\"float: right\">\n",
       "<span class=\"info-pages\">Página 1 de 25</span>\n",
       "</div>\n",
       "</div>\n",
       "<div id=\"container-cards\" style=\"height: 100%\">\n",
       "<div class=\"well card\">\n",
       "<div class=\"col-md-3 image-card\">\n",
       "<img alt=\"Foto\" height=\"155\" src=\"https://caelum-online-public.s3.amazonaws.com/1381-scraping/01/img-cars/lamborghini-aventador/lamborghini-aventador-2932196__340.jpg\" width=\"220\"/>\n",
       "</div>\n",
       "<div class=\"col-md-6 body-card\">\n",
       "<p class=\"txt-name inline\">LAMBORGHINI AVENTADOR</p>\n",
       "<p class=\"txt-category badge badge-secondary inline\">USADO</p>\n",
       "<p class=\"txt-motor\">Motor 1.8 16v</p>\n",
       "<p class=\"txt-description\">Ano 1993 - 55.286 km</p>\n",
       "<ul class=\"lst-items\">\n",
       "<li class=\"txt-items\">► 4 X 4</li>\n",
       "<li class=\"txt-items\">► Câmera de estacionamento</li>\n",
       "<li class=\"txt-items\">► Controle de tração</li>\n",
       "<li class=\"txt-items\">► Sensor de estacionamento</li>\n",
       "<li class=\"txt-items\">...</li>\n",
       "</ul>\n",
       "<p class=\"txt-location\">Belo Horizonte - MG</p>\n",
       "</div>\n",
       "<div class=\"col-md-3 value-card\">\n",
       "<div class=\"value\">\n",
       "<p class=\"txt-value\">R$ 338.000</p>\n",
       "</div>\n",
       "</div>\n",
       "</div>\n",
       "<div class=\"well card\">\n",
       "<div class=\"col-md-3 image-card\">\n",
       "<img alt=\"Foto\" height=\"155\" src=\"https://caelum-online-public.s3.amazonaws.com/1381-scraping/01/img-cars/bmw-m2/bmw-m2-2970882__340.jpg\" width=\"220\"/>\n",
       "</div>\n",
       "<div class=\"col-md-6 body-card\">\n",
       "<p class=\"txt-name inline\">BMW M2</p>\n",
       "<p class=\"txt-category badge badge-secondary inline\">USADO</p>\n",
       "<p class=\"txt-motor\">Motor 3.0 32v</p>\n",
       "<p class=\"txt-description\">Ano 2018 - 83.447 km</p>\n",
       "<ul class=\"lst-items\">\n",
       "<li class=\"txt-items\">► Câmera de estacionamento</li>\n",
       "<li class=\"txt-items\">► Controle de estabilidade</li>\n",
       "<li class=\"txt-items\">► Travas elétricas</li>\n",
       "<li class=\"txt-items\">► Freios ABS</li>\n",
       "<li class=\"txt-items\">...</li>\n",
       "</ul>\n",
       "<p class=\"txt-location\">Belo Horizonte - MG</p>\n",
       "</div>\n",
       "<div class=\"col-md-3 value-card\">\n",
       "<div class=\"value\">\n",
       "<p class=\"txt-value\">R$ 346.000</p>\n",
       "</div>\n",
       "</div>\n",
       "</div>\n",
       "<div class=\"well card\">\n",
       "<div class=\"col-md-3 image-card\">\n",
       "<img alt=\"Foto\" height=\"155\" src=\"https://caelum-online-public.s3.amazonaws.com/1381-scraping/01/img-cars/alfa/alfa-1823056__340.jpg\" width=\"220\"/>\n",
       "</div>\n",
       "<div class=\"col-md-6 body-card\">\n",
       "<p class=\"txt-name inline\">ALFA</p>\n",
       "<p class=\"txt-category badge badge-secondary inline\">USADO</p>\n",
       "<p class=\"txt-motor\">Motor 1.8 16v</p>\n",
       "<p class=\"txt-description\">Ano 2004 - 19.722 km</p>\n",
       "<ul class=\"lst-items\">\n",
       "<li class=\"txt-items\">► Central multimídia</li>\n",
       "<li class=\"txt-items\">► Bancos de couro</li>\n",
       "<li class=\"txt-items\">► Rodas de liga</li>\n",
       "<li class=\"txt-items\">► Câmera de estacionamento</li>\n",
       "<li class=\"txt-items\">...</li>\n",
       "</ul>\n",
       "<p class=\"txt-location\">Rio de Janeiro - RJ</p>\n",
       "</div>\n",
       "<div class=\"col-md-3 value-card\">\n",
       "<div class=\"value\">\n",
       "<p class=\"txt-value\">R$ 480.000</p>\n",
       "</div>\n",
       "</div>\n",
       "</div>\n",
       "<div class=\"well card\">\n",
       "<div class=\"col-md-3 image-card\">\n",
       "<img alt=\"Foto\" height=\"155\" src=\"https://caelum-online-public.s3.amazonaws.com/1381-scraping/01/img-cars/puech/puech-4055386__340.jpg\" width=\"220\"/>\n",
       "</div>\n",
       "<div class=\"col-md-6 body-card\">\n",
       "<p class=\"txt-name inline\">PUECH</p>\n",
       "<p class=\"txt-category badge badge-secondary inline\">USADO</p>\n",
       "<p class=\"txt-motor\">Motor Diesel V8</p>\n",
       "<p class=\"txt-description\">Ano 1992 - 34.335 km</p>\n",
       "<ul class=\"lst-items\">\n",
       "<li class=\"txt-items\">► Bancos de couro</li>\n",
       "<li class=\"txt-items\">► Freios ABS</li>\n",
       "<li class=\"txt-items\">► Rodas de liga</li>\n",
       "<li class=\"txt-items\">► Câmbio automático</li>\n",
       "<li class=\"txt-items\">...</li>\n",
       "</ul>\n",
       "<p class=\"txt-location\">São Paulo - SP</p>\n",
       "</div>\n",
       "<div class=\"col-md-3 value-card\">\n",
       "<div class=\"value\">\n",
       "<p class=\"txt-value\">R$ 133.000</p>\n",
       "</div>\n",
       "</div>\n",
       "</div>\n",
       "<div class=\"well card\">\n",
       "<div class=\"col-md-3 image-card\">\n",
       "<img alt=\"Foto\" height=\"155\" src=\"https://caelum-online-public.s3.amazonaws.com/1381-scraping/01/img-cars/lamborghini-murcielago/lamborghini-murcielago-2872974__340.jpg\" width=\"220\"/>\n",
       "</div>\n",
       "<div class=\"col-md-6 body-card\">\n",
       "<p class=\"txt-name inline\">LAMBORGHINI MURCIELAGO</p>\n",
       "<p class=\"txt-category badge badge-secondary inline\">USADO</p>\n",
       "<p class=\"txt-motor\">Motor 1.0 8v</p>\n",
       "<p class=\"txt-description\">Ano 1991 - 464 km</p>\n",
       "<ul class=\"lst-items\">\n",
       "<li class=\"txt-items\">► Central multimídia</li>\n",
       "<li class=\"txt-items\">► Teto panorâmico</li>\n",
       "<li class=\"txt-items\">► Sensor crepuscular</li>\n",
       "<li class=\"txt-items\">► Piloto automático</li>\n",
       "<li class=\"txt-items\">...</li>\n",
       "</ul>\n",
       "<p class=\"txt-location\">Belo Horizonte - MG</p>\n",
       "</div>\n",
       "<div class=\"col-md-3 value-card\">\n",
       "<div class=\"value\">\n",
       "<p class=\"txt-value\">R$ 175.000</p>\n",
       "</div>\n",
       "</div>\n",
       "</div>\n",
       "<div class=\"well card\">\n",
       "<div class=\"col-md-3 image-card\">\n",
       "<img alt=\"Foto\" height=\"155\" src=\"https://caelum-online-public.s3.amazonaws.com/1381-scraping/01/img-cars/aston-martin/aston-martin-2977916__340.jpg\" width=\"220\"/>\n",
       "</div>\n",
       "<div class=\"col-md-6 body-card\">\n",
       "<p class=\"txt-name inline\">ASTON MARTIN</p>\n",
       "<p class=\"txt-category badge badge-secondary inline\">USADO</p>\n",
       "<p class=\"txt-opportunity badge badge-danger inline\">OPORTUNIDADE</p>\n",
       "<p class=\"txt-motor\">Motor Diesel V6</p>\n",
       "<p class=\"txt-description\">Ano 2004 - 50.189 km</p>\n",
       "<ul class=\"lst-items\">\n",
       "<li class=\"txt-items\">► Painel digital</li>\n",
       "<li class=\"txt-items\">► Controle de tração</li>\n",
       "<li class=\"txt-items\">► Teto panorâmico</li>\n",
       "<li class=\"txt-items\">► Central multimídia</li>\n",
       "<li class=\"txt-items\">...</li>\n",
       "</ul>\n",
       "<p class=\"txt-location\">Belo Horizonte - MG</p>\n",
       "</div>\n",
       "<div class=\"col-md-3 value-card\">\n",
       "<div class=\"value\">\n",
       "<p class=\"txt-value\">R$ 239.000</p>\n",
       "</div>\n",
       "</div>\n",
       "</div>\n",
       "<div class=\"well card\">\n",
       "<div class=\"col-md-3 image-card\">\n",
       "<img alt=\"Foto\" height=\"155\" src=\"https://caelum-online-public.s3.amazonaws.com/1381-scraping/01/img-cars/tvr/tvr-2943925__340.jpg\" width=\"220\"/>\n",
       "</div>\n",
       "<div class=\"col-md-6 body-card\">\n",
       "<p class=\"txt-name inline\">TVR</p>\n",
       "<p class=\"txt-category badge badge-secondary inline\">USADO</p>\n",
       "<p class=\"txt-motor\">Motor 4.0 Turbo</p>\n",
       "<p class=\"txt-description\">Ano 2014 - 17.778 km</p>\n",
       "<ul class=\"lst-items\">\n",
       "<li class=\"txt-items\">► 4 X 4</li>\n",
       "<li class=\"txt-items\">► Teto panorâmico</li>\n",
       "<li class=\"txt-items\">► Central multimídia</li>\n",
       "<li class=\"txt-items\">► Controle de estabilidade</li>\n",
       "<li class=\"txt-items\">...</li>\n",
       "</ul>\n",
       "<p class=\"txt-location\">Belo Horizonte - MG</p>\n",
       "</div>\n",
       "<div class=\"col-md-3 value-card\">\n",
       "<div class=\"value\">\n",
       "<p class=\"txt-value\">R$ 115.000</p>\n",
       "</div>\n",
       "</div>\n",
       "</div>\n",
       "<div class=\"well card\">\n",
       "<div class=\"col-md-3 image-card\">\n",
       "<img alt=\"Foto\" height=\"155\" src=\"https://caelum-online-public.s3.amazonaws.com/1381-scraping/01/img-cars/excalibur/excalibur-2916730__340.jpg\" width=\"220\"/>\n",
       "</div>\n",
       "<div class=\"col-md-6 body-card\">\n",
       "<p class=\"txt-name inline\">EXCALIBUR</p>\n",
       "<p class=\"txt-category badge badge-secondary inline\">USADO</p>\n",
       "<p class=\"txt-motor\">Motor 3.0 32v</p>\n",
       "<p class=\"txt-description\">Ano 2009 - 81.251 km</p>\n",
       "<ul class=\"lst-items\">\n",
       "<li class=\"txt-items\">► Painel digital</li>\n",
       "<li class=\"txt-items\">► Câmbio automático</li>\n",
       "<li class=\"txt-items\">► Sensor de chuva</li>\n",
       "<li class=\"txt-items\">► Travas elétricas</li>\n",
       "<li class=\"txt-items\">...</li>\n",
       "</ul>\n",
       "<p class=\"txt-location\">Rio de Janeiro - RJ</p>\n",
       "</div>\n",
       "<div class=\"col-md-3 value-card\">\n",
       "<div class=\"value\">\n",
       "<p class=\"txt-value\">R$ 114.000</p>\n",
       "</div>\n",
       "</div>\n",
       "</div>\n",
       "<div class=\"well card\">\n",
       "<div class=\"col-md-3 image-card\">\n",
       "<img alt=\"Foto\" height=\"155\" src=\"https://caelum-online-public.s3.amazonaws.com/1381-scraping/01/img-cars/mclaren/mclaren-2855240__340.jpg\" width=\"220\"/>\n",
       "</div>\n",
       "<div class=\"col-md-6 body-card\">\n",
       "<p class=\"txt-name inline\">MCLAREN</p>\n",
       "<p class=\"txt-category badge badge-secondary inline\">NOVO</p>\n",
       "<p class=\"txt-motor\">Motor Diesel</p>\n",
       "<p class=\"txt-description\">Ano 2019 - 0 km</p>\n",
       "<ul class=\"lst-items\">\n",
       "<li class=\"txt-items\">► Central multimídia</li>\n",
       "<li class=\"txt-items\">► Câmera de estacionamento</li>\n",
       "<li class=\"txt-items\">► Câmbio automático</li>\n",
       "<li class=\"txt-items\">► Ar condicionado</li>\n",
       "<li class=\"txt-items\">...</li>\n",
       "</ul>\n",
       "<p class=\"txt-location\">São Paulo - SP</p>\n",
       "</div>\n",
       "<div class=\"col-md-3 value-card\">\n",
       "<div class=\"value\">\n",
       "<p class=\"txt-value\">R$ 75.000</p>\n",
       "</div>\n",
       "</div>\n",
       "</div>\n",
       "<div class=\"well card\">\n",
       "<div class=\"col-md-3 image-card\">\n",
       "<img alt=\"Foto\" height=\"155\" src=\"https://caelum-online-public.s3.amazonaws.com/1381-scraping/01/img-cars/toyota/toyota-3245397__340.jpg\" width=\"220\"/>\n",
       "</div>\n",
       "<div class=\"col-md-6 body-card\">\n",
       "<p class=\"txt-name inline\">TOYOTA</p>\n",
       "<p class=\"txt-category badge badge-secondary inline\">USADO</p>\n",
       "<p class=\"txt-opportunity badge badge-danger inline\">OPORTUNIDADE</p>\n",
       "<p class=\"txt-motor\">Motor 4.0 Turbo</p>\n",
       "<p class=\"txt-description\">Ano 1999 - 12.536 km</p>\n",
       "<ul class=\"lst-items\">\n",
       "<li class=\"txt-items\">► Bancos de couro</li>\n",
       "<li class=\"txt-items\">► Freios ABS</li>\n",
       "<li class=\"txt-items\">► Piloto automático</li>\n",
       "<li class=\"txt-items\">► Controle de estabilidade</li>\n",
       "<li class=\"txt-items\">...</li>\n",
       "</ul>\n",
       "<p class=\"txt-location\">São Paulo - SP</p>\n",
       "</div>\n",
       "<div class=\"col-md-3 value-card\">\n",
       "<div class=\"value\">\n",
       "<p class=\"txt-value\">R$ 117.000</p>\n",
       "</div>\n",
       "</div>\n",
       "</div> </div>\n",
       "<div class=\"type-select\">246 veículos encontrados</div>\n",
       "<div class=\"container-pagination\" style=\"float: right\">\n",
       "<span class=\"info-pages\">Página 1 de 25</span>\n",
       "</div>\n",
       "</div>\n",
       "</div>\n",
       "</div>\n",
       "</div>\n",
       "\n",
       "<footer>\n",
       "<nav class=\"navbar navbar-inverse\">\n",
       "<div class=\"container\" style=\"margin-bottom: 10px;\">\n",
       "<div class=\"navbar\">\n",
       "<a class=\"navbar-brand\" href=\"./index.php\" title=\"Alura Motors\">\n",
       "<img alt=\"Alura\" class=\"d-inline-block align-top\" src=\"img/alura-logo.svg\"/>Motors\n",
       "\t\t\t\t\t\t</a>\n",
       "<p style=\"color: #fff; text-align: center; margin-top: 40px;\">Aplicação para treinamento de web scraping</p>\n",
       "</div>\n",
       "</div>\n",
       "</nav>\n",
       "</footer>\n",
       "\n",
       "</body>\n",
       "</html>"
      ]
     },
     "execution_count": 3,
     "metadata": {},
     "output_type": "execute_result"
    }
   ],
   "source": [
    "#Criando um  BeautifulSoup\n",
    "soup = BeautifulSoup(html, \"html.parser\")\n",
    "soup"
   ]
  },
  {
   "cell_type": "code",
   "execution_count": 7,
   "metadata": {},
   "outputs": [],
   "source": [
    "#Encontrando determinado item\n",
    "\n",
    "soup.find('h1', id=\"hello-world\")"
   ]
  },
  {
   "cell_type": "code",
   "execution_count": null,
   "metadata": {},
   "outputs": [],
   "source": [
    "# mostrando as tags P\n",
    "print(soup.find('p'))"
   ]
  },
  {
   "cell_type": "code",
   "execution_count": null,
   "metadata": {},
   "outputs": [],
   "source": [
    "#Filtrando apenas o texto da tag p\n",
    "print(soup.find('p').get_text())"
   ]
  },
  {
   "cell_type": "markdown",
   "metadata": {},
   "source": [
    "Entendendo e tratando erros https"
   ]
  },
  {
   "cell_type": "code",
   "execution_count": null,
   "metadata": {},
   "outputs": [],
   "source": [
    "from urllib.request import urlopen \n",
    "\n",
    "#Obtendo informações do site de carros de luxo\n",
    "url = 'https://alura-site-scraping.herokuapp.com/index.php'\n",
    "\n",
    "response = urlopen(url)\n",
    "html = response.read()\n",
    "html"
   ]
  },
  {
   "cell_type": "code",
   "execution_count": null,
   "metadata": {},
   "outputs": [],
   "source": [
    "from urllib.request import Request, urlopen\n",
    "from urllib.error import URLError, HTTPError\n",
    "\n",
    "url = 'https://www.alura.com.br'\n",
    "\n",
    "#Já o mesmo metodo não é possível ser usado em sites seguros, é necessario usar outro método \n",
    "response = urlopen(url)\n",
    "html = response.read()\n",
    "html"
   ]
  },
  {
   "cell_type": "code",
   "execution_count": null,
   "metadata": {
    "scrolled": false
   },
   "outputs": [],
   "source": [
    "from urllib.request import Request, urlopen\n",
    "from urllib.error import URLError, HTTPError\n",
    "\n",
    "#Neste exemplos passamos mais informações para poder liberar o acesso as informações \n",
    "#Estamos informando a página que estamos fazendo acesso de um navegador padrão através do link, para que o acesso não seja bloqueado.\n",
    "\n",
    "url = 'https://www.alura.com.br'\n",
    "headers = {'User-Agent': 'Mozilla/5.0 (Windows NT 10.0; Win64; x64) AppleWebKit/537.36 (KHTML, like Gecko) Chrome/101.0.4951.67 Safari/537.36'}\n",
    "\n",
    "req = Request(url, headers = headers )\n",
    "response = urlopen(req)\n",
    "print(response.read())"
   ]
  },
  {
   "cell_type": "code",
   "execution_count": null,
   "metadata": {},
   "outputs": [],
   "source": [
    "from urllib.request import Request, urlopen\n",
    "from urllib.error import URLError, HTTPError\n",
    "\n",
    "#Neste exemplos passamos mais informações para poder liberar o acesso as informações \n",
    "#Estamos informando a página que estamos fazendo acesso de um navegador padrão através do link, para que o acesso não seja bloqueado.\n",
    "\n",
    "url = 'https://www.alurao.com.br'\n",
    "headers = {'User-Agent': 'Mozilla/5.0 (Windows NT 10.0; Win64; x64) AppleWebKit/537.36 (KHTML, like Gecko) Chrome/101.0.4951.67 Safari/537.36'}\n",
    "\n",
    "#Tratando erros\n",
    "try:\n",
    "    req = Request(url, headers = headers )\n",
    "    response = urlopen(req)\n",
    "    print(response.read())\n",
    "    \n",
    "except HTTPError as e:\n",
    "    print(e.status, e.reason)\n",
    "    \n",
    "except URLError as e:\n",
    "    print(e.reason)\n",
    "    "
   ]
  },
  {
   "cell_type": "markdown",
   "metadata": {},
   "source": [
    "##### Tratamento de string\n",
    "Tratamentos de pode ser feito para evitar problemas futuros #NãoObrigatório"
   ]
  },
  {
   "cell_type": "code",
   "execution_count": null,
   "metadata": {},
   "outputs": [],
   "source": [
    "#verificando o tipo do html\n",
    "type(html)"
   ]
  },
  {
   "cell_type": "code",
   "execution_count": null,
   "metadata": {
    "scrolled": true
   },
   "outputs": [],
   "source": [
    "#Convertendo o tipo bytes para string\n",
    "html = html.decode('utf-8')"
   ]
  },
  {
   "cell_type": "code",
   "execution_count": null,
   "metadata": {},
   "outputs": [],
   "source": [
    "type(html)"
   ]
  },
  {
   "cell_type": "code",
   "execution_count": null,
   "metadata": {},
   "outputs": [],
   "source": [
    "html"
   ]
  },
  {
   "cell_type": "code",
   "execution_count": null,
   "metadata": {},
   "outputs": [],
   "source": [
    "html.split()"
   ]
  },
  {
   "cell_type": "code",
   "execution_count": null,
   "metadata": {},
   "outputs": [],
   "source": [
    "#Retirando os espaços excessivos\n",
    "\" \".join(html.split())"
   ]
  },
  {
   "cell_type": "code",
   "execution_count": null,
   "metadata": {},
   "outputs": [],
   "source": [
    "#Retirando os espaços entre as tags\n",
    "\" \".join(html.split()).replace('> <', '><')"
   ]
  },
  {
   "cell_type": "code",
   "execution_count": null,
   "metadata": {},
   "outputs": [],
   "source": [
    "#Função:Retirando os espaços entre as tags\n",
    "\n",
    "def trata_html(input):\n",
    "    return \" \".join(input.split()).replace('> <', '><')"
   ]
  },
  {
   "cell_type": "code",
   "execution_count": null,
   "metadata": {},
   "outputs": [],
   "source": [
    "html = trata_html(html)\n",
    "html"
   ]
  },
  {
   "cell_type": "markdown",
   "metadata": {},
   "source": [
    "###### Criando um objeto BeautifulSoup "
   ]
  },
  {
   "cell_type": "code",
   "execution_count": null,
   "metadata": {},
   "outputs": [],
   "source": [
    "soup = BeautifulSoup(html, 'html.parser')\n",
    "soup"
   ]
  },
  {
   "cell_type": "code",
   "execution_count": null,
   "metadata": {},
   "outputs": [],
   "source": [
    "type(soup)"
   ]
  },
  {
   "cell_type": "code",
   "execution_count": null,
   "metadata": {},
   "outputs": [],
   "source": [
    "#Melhorando a visulaização \n",
    "print(soup.prettify())"
   ]
  },
  {
   "cell_type": "markdown",
   "metadata": {},
   "source": [
    "Acessando tags\n"
   ]
  },
  {
   "cell_type": "code",
   "execution_count": null,
   "metadata": {},
   "outputs": [],
   "source": [
    "#Ele vai mostrar aparti da primeira tag do determinado \"nome\" encontrada na varredura\n",
    "soup.html"
   ]
  },
  {
   "cell_type": "code",
   "execution_count": null,
   "metadata": {},
   "outputs": [],
   "source": [
    "soup.title      "
   ]
  },
  {
   "cell_type": "code",
   "execution_count": null,
   "metadata": {},
   "outputs": [],
   "source": [
    "soup.html.head.title"
   ]
  },
  {
   "cell_type": "code",
   "execution_count": null,
   "metadata": {},
   "outputs": [],
   "source": [
    "soup.div"
   ]
  },
  {
   "cell_type": "code",
   "execution_count": null,
   "metadata": {},
   "outputs": [],
   "source": [
    "# H1 dentro da 5ª div\n",
    "soup.div.h1"
   ]
  },
  {
   "cell_type": "code",
   "execution_count": null,
   "metadata": {},
   "outputs": [],
   "source": [
    "#Fazendo aparecer somente o texto\n",
    "soup.div.h1.get_text()"
   ]
  },
  {
   "cell_type": "code",
   "execution_count": null,
   "metadata": {},
   "outputs": [],
   "source": [
    "soup.title"
   ]
  },
  {
   "cell_type": "code",
   "execution_count": null,
   "metadata": {},
   "outputs": [],
   "source": [
    "soup.title.get_text()"
   ]
  },
  {
   "cell_type": "markdown",
   "metadata": {},
   "source": [
    "### Acessando os atributos de uma tag"
   ]
  },
  {
   "cell_type": "code",
   "execution_count": null,
   "metadata": {},
   "outputs": [],
   "source": [
    "#Acessando imagem\n",
    "soup.img"
   ]
  },
  {
   "cell_type": "code",
   "execution_count": null,
   "metadata": {},
   "outputs": [],
   "source": [
    "soup.img.attrs"
   ]
  },
  {
   "cell_type": "code",
   "execution_count": null,
   "metadata": {},
   "outputs": [],
   "source": [
    "#So as chaves dos atributos\n",
    "soup.img.attrs.keys()"
   ]
  },
  {
   "cell_type": "code",
   "execution_count": null,
   "metadata": {},
   "outputs": [],
   "source": [
    "#So os valores\n",
    "soup.img.attrs.values()"
   ]
  },
  {
   "cell_type": "code",
   "execution_count": null,
   "metadata": {},
   "outputs": [],
   "source": [
    "soup.img['class']"
   ]
  },
  {
   "cell_type": "code",
   "execution_count": null,
   "metadata": {},
   "outputs": [],
   "source": [
    "soup.img.get('src')"
   ]
  },
  {
   "cell_type": "markdown",
   "metadata": {},
   "source": [
    "##### 04- Pesquisando com Beautifulsoup"
   ]
  },
  {
   "cell_type": "markdown",
   "metadata": {},
   "source": [
    "Metodos find() e findAll()"
   ]
  },
  {
   "cell_type": "markdown",
   "metadata": {},
   "source": [
    "Observação \n",
    "* findAll() também pode ser ultilizado como find_all()"
   ]
  },
  {
   "cell_type": "markdown",
   "metadata": {},
   "source": [
    "* find(tag, attributes, recursive, text, **kwargs)\n",
    "* findAll(tag, attributes, recuscive, text, limit, **kwargs)"
   ]
  },
  {
   "cell_type": "markdown",
   "metadata": {},
   "source": [
    "Método find()"
   ]
  },
  {
   "cell_type": "code",
   "execution_count": null,
   "metadata": {},
   "outputs": [],
   "source": [
    "#Faz a varredura no inicio do site, até encontrar a primeira tag que contém o item que deseja\n",
    "soup.find('img')"
   ]
  },
  {
   "cell_type": "code",
   "execution_count": null,
   "metadata": {},
   "outputs": [],
   "source": [
    "#Faz a varredura no inicio do site, até encontrar a primeira tag que contém o item\n",
    "soup.img"
   ]
  },
  {
   "cell_type": "markdown",
   "metadata": {},
   "source": [
    "##### Método findAll()"
   ]
  },
  {
   "cell_type": "code",
   "execution_count": null,
   "metadata": {},
   "outputs": [],
   "source": [
    "#Faz a varredura no inicio do site,\n",
    "soup.findAll('img')"
   ]
  },
  {
   "cell_type": "markdown",
   "metadata": {},
   "source": [
    "##### Comando equivalente a método find()"
   ]
  },
  {
   "cell_type": "code",
   "execution_count": null,
   "metadata": {},
   "outputs": [],
   "source": [
    "# Limita a uma ocorrencia, a primeira encontrada, na varredura, retornando como array\n",
    "soup.findAll('img',limit = 1)"
   ]
  },
  {
   "cell_type": "code",
   "execution_count": null,
   "metadata": {},
   "outputs": [],
   "source": [
    "# E possivel determinar a posição também, do item que deseja, o primeiro item \n",
    "soup.findAll('img', limit = 1)[0]"
   ]
  },
  {
   "cell_type": "markdown",
   "metadata": {},
   "source": [
    "###### Atalho para ,método findAll()"
   ]
  },
  {
   "cell_type": "code",
   "execution_count": null,
   "metadata": {},
   "outputs": [],
   "source": [
    "#Método mais ultilisado\n",
    "soup('img')"
   ]
  },
  {
   "cell_type": "markdown",
   "metadata": {},
   "source": [
    "###### Passando listas de TAGs"
   ]
  },
  {
   "cell_type": "code",
   "execution_count": null,
   "metadata": {},
   "outputs": [],
   "source": [
    "#Vai retornar todas as tags com todos os \"Titulos\"\n",
    "soup.findAll(['h1','h2','h3','h4','h5','h6'])"
   ]
  },
  {
   "cell_type": "markdown",
   "metadata": {},
   "source": [
    "###### Ultilizando o argumento attributes"
   ]
  },
  {
   "cell_type": "code",
   "execution_count": null,
   "metadata": {},
   "outputs": [],
   "source": [
    "#Buscando todas as tags \"p\"\n",
    "soup.findAll('p')"
   ]
  },
  {
   "cell_type": "code",
   "execution_count": null,
   "metadata": {},
   "outputs": [],
   "source": [
    "#Filtrando das tags \"p\" somente as class valores, dentro de uma lista\n",
    "soup.findAll('p',{\"class\":\"txt-value\"})"
   ]
  },
  {
   "cell_type": "markdown",
   "metadata": {},
   "source": [
    "###### Buscando por conteúdo de uma TAG"
   ]
  },
  {
   "cell_type": "code",
   "execution_count": null,
   "metadata": {},
   "outputs": [],
   "source": [
    "#Filtando todas as cidades belo horizonte, na tags P \n",
    "#text ou string funciona\n",
    "\n",
    "soup.findAll('p', text = \"Belo Horizonte - MG\")"
   ]
  },
  {
   "cell_type": "markdown",
   "metadata": {},
   "source": [
    "###### Ultilizando diretamente os atributos"
   ]
  },
  {
   "cell_type": "code",
   "execution_count": null,
   "metadata": {},
   "outputs": [],
   "source": [
    "#Trazer todas as tags que tem atributo alt='foto'\n",
    "soup.findAll('img', alt=\"Foto\")"
   ]
  },
  {
   "cell_type": "code",
   "execution_count": null,
   "metadata": {},
   "outputs": [],
   "source": [
    "for item in soup.findAll('img', alt=\"Foto\"):\n",
    "    print(item)"
   ]
  },
  {
   "cell_type": "code",
   "execution_count": null,
   "metadata": {},
   "outputs": [],
   "source": [
    "#Imagens\n",
    "for item in soup.findAll('img', alt=\"Foto\"):\n",
    "    print(item.get('src'))"
   ]
  },
  {
   "cell_type": "markdown",
   "metadata": {},
   "source": [
    "###### Cuidado com o atributi \"class\""
   ]
  },
  {
   "cell_type": "code",
   "execution_count": null,
   "metadata": {},
   "outputs": [],
   "source": [
    "#Não pode ser usada a class direto, por ser uma palavra reservada\n",
    "soup.findAll('p', class=\"txt-value\")"
   ]
  },
  {
   "cell_type": "code",
   "execution_count": null,
   "metadata": {},
   "outputs": [],
   "source": [
    "#E necessário ultilizar o underscore para funcionar\n",
    "soup.findAll('p', class_=\"txt-value\")"
   ]
  },
  {
   "cell_type": "markdown",
   "metadata": {},
   "source": [
    "###### Obtendo todo o conteúdo de texto de uma página"
   ]
  },
  {
   "cell_type": "code",
   "execution_count": null,
   "metadata": {},
   "outputs": [],
   "source": [
    "#Retorna todos os textos encontrado na página\n",
    "soup.findAll(text= True)"
   ]
  },
  {
   "cell_type": "code",
   "execution_count": null,
   "metadata": {},
   "outputs": [],
   "source": [
    "from bs4 import BeautifulSoup\n",
    "<html>\n",
    "    <body>\n",
    "        <div id=\"container-a\">\n",
    "            <h1>Título A</h1>\n",
    "            <h2 class=\"ref-a\">Sub título A</h2>\n",
    "            <p>Texto de conteúdo A</p>\n",
    "        </div>\n",
    "        <div id=\"container-b\">\n",
    "            <h1>Título B</h1>\n",
    "            <h2 class=\"ref-b\">Sub título B</h2>\n",
    "            <p>Texto de conteúdo B</p>\n",
    "        </div>\n",
    "    </body>\n",
    "</html>\n",
    "soup = BeautifulSoup(html, 'html.parser')"
   ]
  },
  {
   "cell_type": "code",
   "execution_count": null,
   "metadata": {},
   "outputs": [],
   "source": [
    "from bs4 import BeautifulSoup\n",
    "html = \"\"\"\n",
    "    <html>\n",
    "        <body>\n",
    "            <div id=\"container-a\">\n",
    "                <h1>Título A</h1>\n",
    "                <h2 class=\"ref-a\">Sub título A</h2>\n",
    "                <p>Texto de conteúdo A</p>\n",
    "            </div>\n",
    "            <div id=\"container-b\">\n",
    "                <h1>Título B</h1>\n",
    "                <h2 class=\"ref-b\">Sub título B</h2>\n",
    "                <p>Texto de conteúdo B</p>\n",
    "            </div>\n",
    "        </body>\n",
    "    </html>\n",
    "\"\"\"\n",
    "soup = BeautifulSoup(html, 'html.parser')"
   ]
  },
  {
   "cell_type": "markdown",
   "metadata": {},
   "source": [
    "######  Tratamento para a string HTML"
   ]
  },
  {
   "cell_type": "code",
   "execution_count": null,
   "metadata": {},
   "outputs": [],
   "source": [
    "html_teste"
   ]
  },
  {
   "cell_type": "code",
   "execution_count": null,
   "metadata": {},
   "outputs": [],
   "source": [
    "html_teste = trata_html(html_teste)\n",
    "html_teste"
   ]
  },
  {
   "cell_type": "code",
   "execution_count": null,
   "metadata": {},
   "outputs": [],
   "source": [
    "###### Criando o objeto BeautifulSoup"
   ]
  },
  {
   "cell_type": "code",
   "execution_count": null,
   "metadata": {},
   "outputs": [],
   "source": [
    "soup = BeautifulSoup(html, 'html.parser')\n",
    "soup"
   ]
  },
  {
   "cell_type": "markdown",
   "metadata": {},
   "source": [
    "###### Parents"
   ]
  },
  {
   "cell_type": "code",
   "execution_count": null,
   "metadata": {},
   "outputs": [],
   "source": [
    "soup.find('h2')"
   ]
  },
  {
   "cell_type": "code",
   "execution_count": null,
   "metadata": {},
   "outputs": [],
   "source": [
    "soup.find('h2').find_parent('div')"
   ]
  },
  {
   "cell_type": "code",
   "execution_count": null,
   "metadata": {},
   "outputs": [],
   "source": [
    "soup.find('h2').find_parents()"
   ]
  },
  {
   "cell_type": "code",
   "execution_count": null,
   "metadata": {},
   "outputs": [],
   "source": [
    "soup.findAll('h2')"
   ]
  },
  {
   "cell_type": "code",
   "execution_count": null,
   "metadata": {},
   "outputs": [],
   "source": [
    "soup.findAll('h2').find_parent('div')"
   ]
  },
  {
   "cell_type": "code",
   "execution_count": null,
   "metadata": {},
   "outputs": [],
   "source": [
    "for item in soup.findAll('h2'):\n",
    "    print(item.find_parent('div'))"
   ]
  },
  {
   "cell_type": "markdown",
   "metadata": {},
   "source": [
    "######  Siblings"
   ]
  },
  {
   "cell_type": "code",
   "execution_count": null,
   "metadata": {},
   "outputs": [],
   "source": [
    "soup.find('h2').findNextSibling()"
   ]
  },
  {
   "cell_type": "code",
   "execution_count": null,
   "metadata": {},
   "outputs": [],
   "source": [
    "soup.find('h2').findPreviousSibling()"
   ]
  },
  {
   "cell_type": "code",
   "execution_count": null,
   "metadata": {},
   "outputs": [],
   "source": [
    "#Todos os irmãos que vem anterior a esse\n",
    "soup.find('p').findPreviousSiblings()"
   ]
  },
  {
   "cell_type": "markdown",
   "metadata": {},
   "source": [
    "###### Next e Previous"
   ]
  },
  {
   "cell_type": "code",
   "execution_count": null,
   "metadata": {},
   "outputs": [],
   "source": [
    "soup.find('h2').findNext()"
   ]
  },
  {
   "cell_type": "code",
   "execution_count": null,
   "metadata": {},
   "outputs": [],
   "source": [
    "soup.find('h2').findPrevious()"
   ]
  },
  {
   "cell_type": "code",
   "execution_count": null,
   "metadata": {},
   "outputs": [],
   "source": [
    "soup.find('h2').findAllNext()"
   ]
  }
 ],
 "metadata": {
  "interpreter": {
   "hash": "8050f0f7b036217db9f353e540e6033101148f2e2dd24c9ad6f2b82034d5875c"
  },
  "kernelspec": {
   "display_name": "Python 3 (ipykernel)",
   "language": "python",
   "name": "python3"
  },
  "language_info": {
   "codemirror_mode": {
    "name": "ipython",
    "version": 3
   },
   "file_extension": ".py",
   "mimetype": "text/x-python",
   "name": "python",
   "nbconvert_exporter": "python",
   "pygments_lexer": "ipython3",
   "version": "3.9.7"
  }
 },
 "nbformat": 4,
 "nbformat_minor": 2
}
