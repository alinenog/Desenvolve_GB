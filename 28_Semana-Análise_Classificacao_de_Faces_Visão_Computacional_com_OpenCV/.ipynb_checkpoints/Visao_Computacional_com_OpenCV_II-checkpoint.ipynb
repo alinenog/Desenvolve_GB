{
 "cells": [
  {
   "cell_type": "markdown",
   "metadata": {},
   "source": [
    "# <font color='green' style='font-size: 30px backgound =;'> Análise e Classificação de Faces: Visão Computacional com OpenCV </font>\n",
    "<hr style='border: 2px solid green;'>"
   ]
  },
  {
   "cell_type": "markdown",
   "metadata": {},
   "source": [
    "##### 5- Marcos Faciais"
   ]
  },
  {
   "cell_type": "markdown",
   "metadata": {},
   "source": [
    "5.2 - Introdução a biblioteca DLib "
   ]
  },
  {
   "cell_type": "markdown",
   "metadata": {},
   "source": [
    "#Bibliotecas instaladas\n",
    "\n",
    "conda install -c conda-forge Pillow=5.2.0"
   ]
  },
  {
   "cell_type": "code",
   "execution_count": null,
   "metadata": {},
   "outputs": [],
   "source": [
    "import cv2\n",
    "import numpy as np\n",
    "import dlib\n",
    "import matplotlib.pyplot as plt\n",
    "\n",
    "from sklearn.metrics import acuracy_score\n",
    "\n",
    "from io import BytesIO\n",
    "from IPython.display import clear_output, Image, display\n",
    "from PIL import Image as Img"
   ]
  },
  {
   "cell_type": "code",
   "execution_count": null,
   "metadata": {},
   "outputs": [],
   "source": [
    "imagem = cv2.imread(\"imagens/px-woman-smilings.jpg\")\n",
    "imagem = cv2.cvtColor(imagem, cv2.COLOR_BGR2RGB)"
   ]
  },
  {
   "cell_type": "code",
   "execution_count": null,
   "metadata": {},
   "outputs": [],
   "source": [
    "plt.figure(figsize=(20,10))\n",
    "plt.imshow(imagem)"
   ]
  },
  {
   "cell_type": "code",
   "execution_count": null,
   "metadata": {},
   "outputs": [],
   "source": [
    "classificador_dlib_68 = \"classificadores/shape_predictor_68_face_landmarks.dat\"\n",
    "classificador_dlib = dlib.shape_predict(classificador_dlib_68_path)\n",
    "detector_face = dlib.get_frontal_face_detector()"
   ]
  },
  {
   "cell_type": "code",
   "execution_count": null,
   "metadata": {},
   "outputs": [],
   "source": [
    "#desenha retangulo me volta\n",
    "\n",
    "def anotar_rosto(imagem):\n",
    "    retangulos = detector_face(imagem, 1)\n",
    "    \n",
    "    if len(retangulos) == 0:\n",
    "        return None\n",
    "    \n",
    "    for k, d in enumerate(retangulos):\n",
    "        print(\"Identificado rosto\" + str(k))\n",
    "        cv2.rectangle(imagem, (d.left(), d.top()), (d.rigth(), d.bottom()), (255, 255, 0) ,2)\n",
    "    \n",
    "    return imagem"
   ]
  },
  {
   "cell_type": "code",
   "execution_count": null,
   "metadata": {},
   "outputs": [],
   "source": [
    "imagem_anotada = imagem.copy()\n",
    "imagem_anotada = anotar_rosto(imagem_anotada)"
   ]
  },
  {
   "cell_type": "code",
   "execution_count": null,
   "metadata": {},
   "outputs": [],
   "source": [
    "plt.figure(figsize=(20, 10))\n",
    "plt.imshow(imagem_anotada)"
   ]
  },
  {
   "cell_type": "code",
   "execution_count": null,
   "metadata": {},
   "outputs": [],
   "source": [
    "def pontos_marcos_faciais(imagem):\n",
    "    retangulos = detector_face(imagem, 1)\n",
    "    \n",
    "    if len(retangulos) == 0:\n",
    "        return None\n",
    "    \n",
    "    marcos = []\n",
    "    \n",
    "    for ret in retangulos:\n",
    "        marcos.append(np.matrix([[p.x, p.y] for p in classificador_dlib(imagem,ret).parts()]))\n",
    "    \n",
    "    return marcos"
   ]
  },
  {
   "cell_type": "code",
   "execution_count": null,
   "metadata": {},
   "outputs": [],
   "source": [
    "marcos_faciais = pontos_marcos_faciais(imagem)"
   ]
  },
  {
   "cell_type": "code",
   "execution_count": null,
   "metadata": {},
   "outputs": [],
   "source": [
    "len(marcos_faciais)"
   ]
  },
  {
   "cell_type": "code",
   "execution_count": null,
   "metadata": {},
   "outputs": [],
   "source": [
    "len(marcos_faciais[0])"
   ]
  },
  {
   "cell_type": "code",
   "execution_count": null,
   "metadata": {},
   "outputs": [],
   "source": [
    "def anotar_marcos_faciais(imagem, marcos):\n",
    "    \n",
    "    for marco in marcos:\n",
    "        for idx, ponto in enumerate(marco):\n",
    "            centro = (ponto[0,0], ponto[0,1])\n",
    "            cv2.circle(imagem, centro, 3, (255,255,0), -1)\n",
    "            #cv2.putText(imagem, str(idx), centro, cv2.FONT_HERSHEY_SIMPLEX, 0.8,\n",
    "            #           (255,255,255), 2)\n",
    "    \n",
    "    return imagem"
   ]
  },
  {
   "cell_type": "code",
   "execution_count": null,
   "metadata": {},
   "outputs": [],
   "source": [
    "imagem_anotada = imagem.copy()\n",
    "imagem_anotada = anotar_marcos_faciais(imagem_anotada, marcos_faciais)"
   ]
  },
  {
   "cell_type": "code",
   "execution_count": null,
   "metadata": {},
   "outputs": [],
   "source": [
    "plt.figure(figsize=(20,10))\n",
    "plt.imshow(imagem_anotada)"
   ]
  },
  {
   "cell_type": "code",
   "execution_count": null,
   "metadata": {},
   "outputs": [],
   "source": [
    "plt.figure(figsize=(20,10))\n",
    "plt.imshow(imagem_anotada)"
   ]
  },
  {
   "cell_type": "code",
   "execution_count": null,
   "metadata": {},
   "outputs": [],
   "source": [
    "plt.figure(figsize=(20,10))\n",
    "plt.imshow(imagem_pessoa)"
   ]
  },
  {
   "cell_type": "code",
   "execution_count": null,
   "metadata": {},
   "outputs": [],
   "source": [
    "imagem_anotada = imagem_pessoa.copy()\n",
    "marcos_faciais = pontos_marcos_faciais(imagem_anotada)\n",
    "imagem_anotada = anotar_marcos_faciais(imagem_anotada, marcos_faciais)"
   ]
  },
  {
   "cell_type": "code",
   "execution_count": null,
   "metadata": {},
   "outputs": [],
   "source": [
    "plt.figure(figsize=(20,10))\n",
    "plt.imshow(imagem_anotada)"
   ]
  },
  {
   "cell_type": "code",
   "execution_count": null,
   "metadata": {},
   "outputs": [],
   "source": [
    "FACE = list(range(17, 68))\n",
    "FACE_COMPLETA = list(range(0, 68))\n",
    "LABIO = list(range(48, 61))\n",
    "SOMBRANCELHA_DIRETA = list(range(17, 22))\n",
    "SOMBRANCELHA_ESQUERDA = list(range(22, 27))\n",
    "OLHO_DIREITO = list(range(36,42))\n",
    "OLHO_ESQUERDO = list(range(42,48))\n",
    "NARIZ = list(range(27,35))\n",
    "MANDIBULA = list(range(0,17))"
   ]
  },
  {
   "cell_type": "code",
   "execution_count": null,
   "metadata": {},
   "outputs": [],
   "source": [
    "def aspecto_razao_olhos(pontos_olhos):\n",
    "    \n",
    "    a = dist.euclidean(pontos_olhos[1], pontos_olhos[5])\n",
    "    b = dist.euclidean(pontos_olhos[2], pontos_olhos[4])\n",
    "    c = dist.euclidean(pontos_olhos[0], pontos_olhos[3])\n",
    "    \n",
    "    aspecto_razao = (a + b)/(2.0 * c)\n",
    "    \n",
    "    return aspecto_razao"
   ]
  },
  {
   "cell_type": "code",
   "execution_count": null,
   "metadata": {},
   "outputs": [],
   "source": [
    "def anotar_marcos_casca_convexa(imagem, marcos):\n",
    "    retangulos = detector_face(imagem, 1)\n",
    "    \n",
    "    if len(retangulos) == 0:\n",
    "        return None\n",
    "    \n",
    "    for idx, ret in enumerate(retangulos):\n",
    "        marco = marcos[idx]\n",
    "        \n",
    "        pontos = cv2.convexHull(marco[OLHO_ESQUERDO])\n",
    "        cv2.drawContours(imagem, [pontos], 0, (0,255,0), 2)\n",
    "        \n",
    "        pontos = cv2.convexHull(marco[OLHO_DIREITO])\n",
    "        cv2.drawContours(imagem, [pontos], 0, (0,255,0), 2)\n",
    "    \n",
    "    return imagem"
   ]
  },
  {
   "cell_type": "code",
   "execution_count": null,
   "metadata": {},
   "outputs": [],
   "source": [
    "def anotar_marcos_casca_convexa_boca(imagem, marcos):\n",
    "    retangulos = detector_face(imagem, 1)\n",
    "    \n",
    "    if len(retangulos) == 0:\n",
    "        return None\n",
    "    \n",
    "    for idx, ret in enumerate(retangulos):\n",
    "        marco = marcos[idx]\n",
    "        \n",
    "        pontos = cv2.convexHull(marco[LABIO])\n",
    "        cv2.drawContours(imagem, [pontos], 0, (0,255,0), 2)\n",
    "\n",
    "    return imagem"
   ]
  },
  {
   "cell_type": "code",
   "execution_count": null,
   "metadata": {},
   "outputs": [],
   "source": [
    "imagem_anotada = imagem_pessoa.copy()\n",
    "imagem_anotada = anotar_marcos_casca_convexa(imagem_anotada, marcos_faciais)"
   ]
  },
  {
   "cell_type": "code",
   "execution_count": null,
   "metadata": {},
   "outputs": [],
   "source": [
    "plt.figure(figsize=(20,10))\n",
    "plt.imshow(imagem_anotada)"
   ]
  },
  {
   "cell_type": "code",
   "execution_count": null,
   "metadata": {},
   "outputs": [],
   "source": [
    "valor_olho_esquerdo = aspecto_razao_olhos(marcos_faciais[0][OLHO_ESQUERDO])\n",
    "valor_olho_esquerdo"
   ]
  },
  {
   "cell_type": "code",
   "execution_count": null,
   "metadata": {},
   "outputs": [],
   "source": [
    "valor_olho_direito = aspecto_razao_olhos(marcos_faciais[0][OLHO_DIREITO])\n",
    "valor_olho_direito"
   ]
  },
  {
   "cell_type": "code",
   "execution_count": null,
   "metadata": {},
   "outputs": [],
   "source": [
    "imagem_pessoa_seria = cv2.imread(\"imagens/px-man-serious.jpg\")\n",
    "imagem_pessoa_seria = cv2.cvtColor(imagem_pessoa_seria, cv2.COLOR_BGR2RGB)"
   ]
  },
  {
   "cell_type": "code",
   "execution_count": null,
   "metadata": {},
   "outputs": [],
   "source": [
    "plt.figure(figsize=(20,10))\n",
    "plt.imshow(imagem_pessoa_seria)"
   ]
  },
  {
   "cell_type": "code",
   "execution_count": null,
   "metadata": {},
   "outputs": [],
   "source": [
    "marcos_faciais = pontos_marcos_faciais(imagem_pessoa_seria)"
   ]
  },
  {
   "cell_type": "code",
   "execution_count": null,
   "metadata": {},
   "outputs": [],
   "source": [
    "imagem_anotada = imagem_pessoa_seria.copy()\n",
    "imagem_anotada = anotar_marcos_casca_convexa(imagem_anotada, marcos_faciais)"
   ]
  },
  {
   "cell_type": "code",
   "execution_count": null,
   "metadata": {},
   "outputs": [],
   "source": [
    "plt.figure(figsize=(20,10))\n",
    "plt.imshow(imagem_anotada)"
   ]
  },
  {
   "cell_type": "code",
   "execution_count": null,
   "metadata": {},
   "outputs": [],
   "source": [
    "valor_olho_esquerdo = aspecto_razao_olhos(marcos_faciais[0][OLHO_ESQUERDO])\n",
    "valor_olho_esquerdo"
   ]
  },
  {
   "cell_type": "code",
   "execution_count": null,
   "metadata": {},
   "outputs": [],
   "source": [
    "valor_olho_direito = aspecto_razao_olhos(marcos_faciais[0][OLHO_DIREITO])\n",
    "valor_olho_direito"
   ]
  },
  {
   "cell_type": "markdown",
   "metadata": {},
   "source": [
    "##### 6- Aplicações de Análise Facial"
   ]
  },
  {
   "cell_type": "markdown",
   "metadata": {},
   "source": [
    "6.2 - Trabalhando com vídeos"
   ]
  },
  {
   "cell_type": "code",
   "execution_count": null,
   "metadata": {},
   "outputs": [],
   "source": [
    "def padronizar_imagem(frame):\n",
    "    frame = cv2.cvtColor(frame, cv2.COLOR_BGR2RGB)\n",
    "    frame  = cv2.resize(frame, (500, 400))\n",
    "    return frame"
   ]
  },
  {
   "cell_type": "code",
   "execution_count": null,
   "metadata": {},
   "outputs": [],
   "source": [
    "def exibir_video(frame):\n",
    "    img = img.fromarray(frame, \"RGB\")\n",
    "    buffer = BytesIO()\n",
    "    img.save(buffer, format=\"JPEG\")\n",
    "    display(Image(data=buffer.getValue()))\n",
    "    clear_output(wait=True)"
   ]
  },
  {
   "cell_type": "code",
   "execution_count": null,
   "metadata": {},
   "outputs": [],
   "source": [
    "video = cv2.VideoCapture(\"videos/expressoes.mov\")\n",
    "\n",
    "try: \n",
    "    while(True):\n",
    "        capture_ok, frame = video.read()\n",
    "        if capture_ok:\n",
    "            frame = padronizar_imagem(frame)\n",
    "            exibir_video(frame)\n",
    "except KeyboardInterrupt:\n",
    "    video.reliase()\n",
    "    print(\"Interrompido\")"
   ]
  },
  {
   "cell_type": "markdown",
   "metadata": {},
   "source": [
    "6.3 - Identificação da abertura da boca"
   ]
  },
  {
   "cell_type": "code",
   "execution_count": null,
   "metadata": {},
   "outputs": [],
   "source": [
    "def aspecto_razao_boca(pontos_boca):\n",
    "    a = dist.euclidean(pontos_boca[3], pontos_boca[9])\n",
    "    a = dist.euclidean(pontos_boca[2], pontos_boca[10])\n",
    "    a = dist.euclidean(pontos_boca[4], pontos_boca[8])\n",
    "    a = dist.euclidean(pontos_boca[0], pontos_boca[])\n",
    "    \n",
    "    aspecto_razao = (a + b + c )/(3.0 * d)\n",
    "    return aspecto_razao"
   ]
  },
  {
   "cell_type": "code",
   "execution_count": null,
   "metadata": {},
   "outputs": [],
   "source": [
    "try:\n",
    "    ar_max = 0\n",
    "    video = cv2.VideoCapture(\"videos/bocejo.mov\")\n",
    "    while(True):\n",
    "        captura_ok, frame = video.read()\n",
    "        if captura_ok:\n",
    "            frame = padronizar_imagem(frame)\n",
    "            marcos_faciais = pontos_marcos_faciais(frame)\n",
    "            \n",
    "            if marcos_faciais is not None:\n",
    "                ar_boca = aspecto_razao_boca(marcos_faciais[0][LABIO])\n",
    "                ar_boca = round(ar_boca, 3)\n",
    "                \n",
    "                if ar_boca > ar_max:\n",
    "                    ar_max = ar_boca\n",
    "                \n",
    "                info = \"boca \" + str(ar_boca) + \" maximo \" + str(ar_max)\n",
    "                \n",
    "                frame = anotar_marcos_casca_convexa_boca(frame, marcos_faciais)\n",
    "                cv2.putText(frame, info, (20, 50), cv2.FONT_HERSHEY_SIMPLEX, 0.5, (255,255,0), 2)\n",
    "            \n",
    "            exibir_video(frame)\n",
    "            \n",
    "except KeyboardInterrupt:\n",
    "    video.release()\n",
    "    print(\"Interrompido\")"
   ]
  },
  {
   "cell_type": "markdown",
   "metadata": {},
   "source": [
    "6.4- Identificação da abertura dos olhos"
   ]
  },
  {
   "cell_type": "code",
   "execution_count": null,
   "metadata": {},
   "outputs": [],
   "source": [
    "try:\n",
    "    min_olho_esq = 1\n",
    "    min_olho_dir = 1\n",
    "    \n",
    "    video = cv2.VideoCapture(\"videos/olhos-fechados.mov\")\n",
    "    \n",
    "    while(True):\n",
    "        captura_ok, frame = video.read()\n",
    "        frame = padronizar_imagem(frame)\n",
    "        \n",
    "        marcos_faciais = pontos_marcos_faciais(frame)\n",
    "        \n",
    "        if marcos_faciais is not None:\n",
    "            ar_olho_esq = aspecto_razao_olhos(marcos_faciais[0][OLHO_ESQUERDO])\n",
    "            ar_olho_dir = aspecto_razao_olhos(marcos_faciais[0][OLHO_DIREITO])\n",
    "            \n",
    "            ar_olho_esq = round(ar_olho_esq, 3)\n",
    "            ar_olho_dir = round(ar_olho_dir, 3)\n",
    "            \n",
    "            if ar_olho_esq < min_olho_esq:\n",
    "                min_olho_esq = ar_olho_esq\n",
    "                \n",
    "            if ar_olho_dir < min_olho_dir:\n",
    "                min_olho_dir = ar_olho_dir\n",
    "            \n",
    "            info_oe = \"olho esquerdo \" + str(ar_olho_esq) + \" minimo \" + str(min_olho_esq)\n",
    "            info_od = \"olho direito \" + str(ar_olho_dir) + \" minimo \" + str(min_olho_dir)\n",
    "            \n",
    "            frame = anotar_marcos_casca_convexa(frame, marcos_faciais)\n",
    "            \n",
    "            cv2.putText(frame, info_oe, (20, 50), cv2.FONT_HERSHEY_SIMPLEX, 0.5, (255,255,0), 2)\n",
    "            cv2.putText(frame, info_od, (20, 80), cv2.FONT_HERSHEY_SIMPLEX, 0.5, (255,255,0), 2)\n",
    "            \n",
    "        exibir_video(frame)\n",
    "        \n",
    "except KeyboardInterrupt:\n",
    "    video.release()\n",
    "    print(\"Interrompido\")"
   ]
  }
 ],
 "metadata": {
  "interpreter": {
   "hash": "8050f0f7b036217db9f353e540e6033101148f2e2dd24c9ad6f2b82034d5875c"
  },
  "kernelspec": {
   "display_name": "Python 3 (ipykernel)",
   "language": "python",
   "name": "python3"
  },
  "language_info": {
   "codemirror_mode": {
    "name": "ipython",
    "version": 3
   },
   "file_extension": ".py",
   "mimetype": "text/x-python",
   "name": "python",
   "nbconvert_exporter": "python",
   "pygments_lexer": "ipython3",
   "version": "3.9.7"
  }
 },
 "nbformat": 4,
 "nbformat_minor": 2
}
