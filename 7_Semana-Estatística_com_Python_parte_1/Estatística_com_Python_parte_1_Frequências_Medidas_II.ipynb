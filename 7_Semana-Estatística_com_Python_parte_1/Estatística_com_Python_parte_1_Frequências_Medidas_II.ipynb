{
 "cells": [
  {
   "cell_type": "markdown",
   "metadata": {},
   "source": [
    "# Estatística com Python parte 1: Frequências e Medidas - parte II"
   ]
  },
  {
   "cell_type": "code",
   "execution_count": 1,
   "metadata": {},
   "outputs": [],
   "source": [
    "import pandas as pd"
   ]
  },
  {
   "cell_type": "code",
   "execution_count": 2,
   "metadata": {},
   "outputs": [],
   "source": [
    "sexo = {0: 'Masculino',\n",
    "        1: 'Feminino'}\n",
    "\n",
    "cor = {0: 'Indígena',\n",
    "        2: 'Branca',\n",
    "        4: 'Preta',\n",
    "        6: 'Amarela',\n",
    "        8: 'Parda',\n",
    "        9: 'Sem declaração'}"
   ]
  },
  {
   "cell_type": "code",
   "execution_count": 3,
   "metadata": {},
   "outputs": [
    {
     "ename": "NameError",
     "evalue": "name 'dados' is not defined",
     "output_type": "error",
     "traceback": [
      "\u001b[1;31m---------------------------------------------------------------------------\u001b[0m",
      "\u001b[1;31mNameError\u001b[0m                                 Traceback (most recent call last)",
      "\u001b[1;32me:\\GitHub\\Desenvolve_GB\\7_Semana-Estatística_com_Python_parte_1\\Estatística_com_Python_parte_1_Frequências_Medidas_II.ipynb Cell 4'\u001b[0m in \u001b[0;36m<cell line: 1>\u001b[1;34m()\u001b[0m\n\u001b[1;32m----> <a href='vscode-notebook-cell:/e%3A/GitHub/Desenvolve_GB/7_Semana-Estat%C3%ADstica_com_Python_parte_1/Estat%C3%ADstica_com_Python_parte_1_Frequ%C3%AAncias_Medidas_II.ipynb#ch0000002?line=0'>1</a>\u001b[0m frequencia \u001b[39m=\u001b[39m pd\u001b[39m.\u001b[39mcrosstab(dados\u001b[39m.\u001b[39msexo, dados\u001b[39m.\u001b[39mcor)\n\u001b[0;32m      <a href='vscode-notebook-cell:/e%3A/GitHub/Desenvolve_GB/7_Semana-Estat%C3%ADstica_com_Python_parte_1/Estat%C3%ADstica_com_Python_parte_1_Frequ%C3%AAncias_Medidas_II.ipynb#ch0000002?line=1'>2</a>\u001b[0m frequencia\u001b[39m.\u001b[39mrename(index \u001b[39m=\u001b[39m sexo, inplce \u001b[39m=\u001b[39m \u001b[39mTrue\u001b[39;00m)\n\u001b[0;32m      <a href='vscode-notebook-cell:/e%3A/GitHub/Desenvolve_GB/7_Semana-Estat%C3%ADstica_com_Python_parte_1/Estat%C3%ADstica_com_Python_parte_1_Frequ%C3%AAncias_Medidas_II.ipynb#ch0000002?line=2'>3</a>\u001b[0m frequencia\u001b[39m.\u001b[39mrename(columns \u001b[39m=\u001b[39m cor, inplace \u001b[39m=\u001b[39m \u001b[39mTrue\u001b[39;00m)\n",
      "\u001b[1;31mNameError\u001b[0m: name 'dados' is not defined"
     ]
    }
   ],
   "source": [
    "frequencia = pd.crosstab(dados.sexo, dados.cor)\n",
    "frequencia.rename(index = sexo, inplce = True)\n",
    "frequencia.rename(columns = cor, inplace = True)\n",
    "frequencia"
   ]
  }
 ],
 "metadata": {
  "interpreter": {
   "hash": "da7ce5f3ff9f47d24bb939b13b53992dcf854878b28fcfc53992ecbe890c179b"
  },
  "kernelspec": {
   "display_name": "Python 3.10.2 64-bit",
   "language": "python",
   "name": "python3"
  },
  "language_info": {
   "codemirror_mode": {
    "name": "ipython",
    "version": 3
   },
   "file_extension": ".py",
   "mimetype": "text/x-python",
   "name": "python",
   "nbconvert_exporter": "python",
   "pygments_lexer": "ipython3",
   "version": "3.10.2"
  },
  "orig_nbformat": 4
 },
 "nbformat": 4,
 "nbformat_minor": 2
}
