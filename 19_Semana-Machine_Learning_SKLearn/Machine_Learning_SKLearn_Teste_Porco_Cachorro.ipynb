{
 "cells": [
  {
   "cell_type": "markdown",
   "id": "120c82a6",
   "metadata": {},
   "source": [
    "# <font color='green' style='font-size: 30px backgound =;'> Machine Learning: Introdução a classificação com SKLearn - Porco Cachorro</font>\n",
    "<hr style='border: 2px solid green;'>"
   ]
  },
  {
   "cell_type": "markdown",
   "id": "d8c7944e",
   "metadata": {},
   "source": [
    "<div>\n",
    "Quem é porco ou cachorro?\n",
    "\n",
    "Porco = 1 </br>\n",
    "Cachorro = 0\n",
    "</div>    "
   ]
  },
  {
   "cell_type": "code",
   "execution_count": 9,
   "id": "0547afb2",
   "metadata": {},
   "outputs": [],
   "source": [
    "from sklearn.svm import LinearSVC"
   ]
  },
  {
   "cell_type": "code",
   "execution_count": 10,
   "id": "e7c46c51",
   "metadata": {},
   "outputs": [],
   "source": [
    "#features (1 sim, 0 não)\n",
    "#pelo longo?\n",
    "#perna curta\n",
    "#faz auau?\n",
    "\n",
    "porco1 = [0, 1, 0]\n",
    "porco2 = [0, 1, 0]\n",
    "porco3 = [1, 1, 0]\n",
    "\n",
    "cachorro1 = [0, 1, 1]\n",
    "cachorro2 = [1, 0, 1]\n",
    "cachorro3 = [1, 1, 1]\n",
    "\n",
    "#1 => porco, 0 => cachorro\n",
    "treino_x = [porco1, porco2, porco3, cachorro1, cachorro2, cachorro3 ]\n",
    "treino_y = [1, 1, 1, 0 , 0, 0] #labels/etiquetas"
   ]
  },
  {
   "cell_type": "code",
   "execution_count": 11,
   "id": "175b83ec",
   "metadata": {},
   "outputs": [
    {
     "data": {
      "text/plain": [
       "LinearSVC()"
      ]
     },
     "execution_count": 11,
     "metadata": {},
     "output_type": "execute_result"
    }
   ],
   "source": [
    "model = LinearSVC()\n",
    "model.fit(treino_x, treino_y)"
   ]
  },
  {
   "cell_type": "code",
   "execution_count": 12,
   "id": "a3c30dbd",
   "metadata": {},
   "outputs": [
    {
     "data": {
      "text/plain": [
       "array([1])"
      ]
     },
     "execution_count": 12,
     "metadata": {},
     "output_type": "execute_result"
    }
   ],
   "source": [
    "#Caracteristicas do animal que deseja adivinhar\n",
    "\n",
    "animal_misterioso = [0, 0, 0]\n",
    "model.predict([animal_misterioso])"
   ]
  },
  {
   "cell_type": "code",
   "execution_count": 13,
   "id": "7361e253",
   "metadata": {},
   "outputs": [],
   "source": [
    "misterio1 = [1, 1 ,1 ]\n",
    "misterio2 = [1, 1 ,0 ]\n",
    "misterio3 = [0, 1 ,1 ]\n",
    "\n",
    "teste_x = [misterio1, misterio2, misterio3]\n",
    "teste_y = [0, 1 ,1 ]"
   ]
  },
  {
   "cell_type": "code",
   "execution_count": 14,
   "id": "1df44fac",
   "metadata": {},
   "outputs": [],
   "source": [
    "previsoes = model.predict(teste_x)"
   ]
  },
  {
   "cell_type": "code",
   "execution_count": 15,
   "id": "4d886535",
   "metadata": {},
   "outputs": [
    {
     "name": "stdout",
     "output_type": "stream",
     "text": [
      "Taxa de acerto 66.66666666666666\n"
     ]
    }
   ],
   "source": [
    "#Com biblioteca\n",
    "from sklearn.metrics import accuracy_score \n",
    "\n",
    "taxa_de_acerto = accuracy_score(teste_y, previsoes)\n",
    "print('Taxa de acerto', taxa_de_acerto * 100)"
   ]
  },
  {
   "cell_type": "code",
   "execution_count": null,
   "id": "b3c93d17",
   "metadata": {},
   "outputs": [],
   "source": []
  }
 ],
 "metadata": {
  "kernelspec": {
   "display_name": "Python 3 (ipykernel)",
   "language": "python",
   "name": "python3"
  },
  "language_info": {
   "codemirror_mode": {
    "name": "ipython",
    "version": 3
   },
   "file_extension": ".py",
   "mimetype": "text/x-python",
   "name": "python",
   "nbconvert_exporter": "python",
   "pygments_lexer": "ipython3",
   "version": "3.9.7"
  }
 },
 "nbformat": 4,
 "nbformat_minor": 5
}
